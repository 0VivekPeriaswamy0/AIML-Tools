{
 "cells": [
  {
   "cell_type": "code",
   "execution_count": null,
   "metadata": {},
   "outputs": [],
   "source": [
    "#tagban requiremnet\n",
    "# wget https://raw.githubusercontent.com/Diyago/GAN-for-tabular-data/master/requirements.txt\n",
    "# pip install -r requirements.txt\n",
    "# pip install tabgan"
   ]
  },
  {
   "cell_type": "code",
   "execution_count": 1,
   "metadata": {},
   "outputs": [],
   "source": [
    "from tensorflow.keras.models import Sequential\n",
    "from tensorflow.keras.layers import Dense, Activation\n",
    "from tensorflow.keras.callbacks import EarlyStopping\n",
    "from sklearn.model_selection import train_test_split\n",
    "import pandas as pd\n",
    "import io\n",
    "import os\n",
    "import requests\n",
    "import numpy as np\n",
    "from sklearn import metrics"
   ]
  },
  {
   "cell_type": "code",
   "execution_count": 2,
   "metadata": {},
   "outputs": [],
   "source": [
    "df= pd.read_csv('C:/Projects/Workspaces/Datasets/auto-mpg.csv',na_values=['NA', '?'])\n",
    "target='mpg'\n",
    "COLS_TRAIN = df.drop(target, axis=1)"
   ]
  },
  {
   "cell_type": "code",
   "execution_count": 3,
   "metadata": {},
   "outputs": [],
   "source": [
    "# Handle missing value\n",
    "df['horsepower'] = df['horsepower'].fillna(df['horsepower'].median())"
   ]
  },
  {
   "cell_type": "code",
   "execution_count": 4,
   "metadata": {},
   "outputs": [],
   "source": [
    "# Split into training and test sets\n",
    "df_x_train, df_x_test, df_y_train, df_y_test = train_test_split(df.drop(target, axis=1),df[target],test_size=0.20,random_state=42,)"
   ]
  },
  {
   "cell_type": "code",
   "execution_count": 5,
   "metadata": {},
   "outputs": [],
   "source": [
    "# Create dataframe versions for tabular GAN\n",
    "df_x_test, df_y_test = df_x_test.reset_index(drop=True),df_y_test.reset_index(drop=True)\n",
    "df_y_train = pd.DataFrame(df_y_train)\n",
    "df_y_test = pd.DataFrame(df_y_test)"
   ]
  },
  {
   "cell_type": "code",
   "execution_count": 6,
   "metadata": {},
   "outputs": [],
   "source": [
    "# Create dataframe versions for tabular GAN\n",
    "df_x_test, df_y_test = df_x_test.reset_index(drop=True), \\\n",
    "  df_y_test.reset_index(drop=True)\n",
    "df_y_train = pd.DataFrame(df_y_train)\n",
    "df_y_test = pd.DataFrame(df_y_test)"
   ]
  },
  {
   "cell_type": "code",
   "execution_count": 7,
   "metadata": {},
   "outputs": [],
   "source": [
    "# Pandas to Numpy\n",
    "x_train = df_x_train.values\n",
    "x_test = df_x_test.values\n",
    "y_train = df_y_train.values\n",
    "y_test = df_y_test.values"
   ]
  },
  {
   "cell_type": "code",
   "execution_count": null,
   "metadata": {},
   "outputs": [],
   "source": [
    "model = Sequential()\n",
    "# Hidden 1\n",
    "model.add(Dense(50, input_dim=x_train.shape[1], activation='relu')) \n",
    "model.add(Dense(25, activation='relu')) # Hidden 2\n",
    "model.add(Dense(12, activation='relu')) # Hidden 2\n",
    "model.add(Dense(1)) # Output\n",
    "model.compile(loss='mean_squared_error', optimizer='adam')\n",
    "\n",
    "monitor = EarlyStopping(monitor='val_loss', min_delta=1e-3, \n",
    "        patience=5, verbose=1, mode='auto',\n",
    "        restore_best_weights=True)\n",
    "model.fit(x_train,y_train,validation_data=(x_test,y_test),\n",
    "        callbacks=[monitor], verbose=2,epochs=1000)"
   ]
  },
  {
   "cell_type": "code",
   "execution_count": null,
   "metadata": {},
   "outputs": [],
   "source": [
    "from tabgan.sampler import GANGenerator\n",
    "import pandas as pd\n",
    "import numpy as np\n",
    "from sklearn.model_selection import train_test_split\n",
    "\n",
    "gen_x, gen_y = GANGenerator(gen_x_times=1.1, cat_cols=None,\n",
    "           bot_filter_quantile=0.001, top_filter_quantile=0.999, \\\n",
    "              is_post_process=True,\n",
    "           adversarial_model_params={\n",
    "               \"metrics\": \"rmse\", \"max_depth\": 2, \"max_bin\": 100, \n",
    "               \"learning_rate\": 0.02, \"random_state\": \\\n",
    "                42, \"n_estimators\": 500,\n",
    "           }, pregeneration_frac=2, only_generated_data=False,\\\n",
    "           gan_params = {\"batch_size\": 500, \"patience\": 25, \\\n",
    "          \"epochs\" : 500,}).generate_data_pipe(df_x_train, df_y_train,\\\n",
    "          df_x_test, deep_copy=True, only_adversarial=False, \\\n",
    "          use_adversarial=True)"
   ]
  },
  {
   "cell_type": "code",
   "execution_count": 1,
   "metadata": {},
   "outputs": [
    {
     "name": "stderr",
     "output_type": "stream",
     "text": [
      "Fitting CTGAN transformers for each column: 100%|██████████| 5/5 [00:00<00:00, 10.11it/s]\n",
      "Training CTGAN, epochs::  23%|██▎       | 116/500 [00:05<00:17, 22.13it/s]\n",
      "Fitting CTGAN transformers for each column: 100%|██████████| 5/5 [00:00<00:00,  7.13it/s]\n",
      "Training CTGAN, epochs::  23%|██▎       | 113/500 [00:05<00:18, 21.46it/s]\n"
     ]
    }
   ],
   "source": [
    "from tabgan.sampler import OriginalGenerator, GANGenerator\n",
    "import pandas as pd\n",
    "import numpy as np\n",
    "\n",
    "# random input data\n",
    "train = pd.DataFrame(np.random.randint(-10, 150, size=(150, 4)), columns=list(\"ABCD\"))\n",
    "target = pd.DataFrame(np.random.randint(0, 2, size=(150, 1)), columns=list(\"Y\"))\n",
    "test = pd.DataFrame(np.random.randint(0, 100, size=(100, 4)), columns=list(\"ABCD\"))\n",
    "\n",
    "# generate data\n",
    "new_train1, new_target1 = OriginalGenerator().generate_data_pipe(train, target, test, )\n",
    "new_train2, new_target2 = GANGenerator().generate_data_pipe(train, target, test, )\n",
    "\n",
    "# example with all params defined\n",
    "new_train3, new_target3 = GANGenerator(gen_x_times=1.1, cat_cols=None,\n",
    "           bot_filter_quantile=0.001, top_filter_quantile=0.999, is_post_process=True,\n",
    "           adversarial_model_params={\n",
    "               \"metrics\": \"AUC\", \"max_depth\": 2, \"max_bin\": 100, \n",
    "               \"learning_rate\": 0.02, \"random_state\": 42, \"n_estimators\": 500,\n",
    "           }, pregeneration_frac=2, only_generated_data=False,\n",
    "           gan_params = {\"batch_size\": 500, \"patience\": 25, \"epochs\" : 500,}).generate_data_pipe(train, target,\n",
    "                                          test, deep_copy=True, only_adversarial=False, use_adversarial=True)"
   ]
  },
  {
   "cell_type": "code",
   "execution_count": 3,
   "metadata": {},
   "outputs": [
    {
     "name": "stderr",
     "output_type": "stream",
     "text": [
      "C:\\Users\\vivek.p\\AppData\\Local\\Temp\\ipykernel_16052\\4074016026.py:4: DataConversionWarning: A column-vector y was passed when a 1d array was expected. Please change the shape of y to (n_samples,), for example using ravel().\n",
      "  clf.fit(X_train, y_train)\n"
     ]
    },
    {
     "name": "stdout",
     "output_type": "stream",
     "text": [
      "initial metric 0.9937708153447637\n"
     ]
    },
    {
     "name": "stderr",
     "output_type": "stream",
     "text": [
      "Fitting CTGAN transformers for each column:   3%|▎         | 1/31 [00:00<00:04,  6.63it/s]"
     ]
    },
    {
     "name": "stdout",
     "output_type": "stream",
     "text": [
      "OriginalGenerator metric 0.9931540643887997\n"
     ]
    },
    {
     "name": "stderr",
     "output_type": "stream",
     "text": [
      "Fitting CTGAN transformers for each column: 100%|██████████| 31/31 [00:05<00:00,  5.80it/s]\n",
      "Training CTGAN, epochs::  15%|█▍        | 73/500 [00:05<00:34, 12.50it/s]\n"
     ]
    },
    {
     "name": "stdout",
     "output_type": "stream",
     "text": [
      "GANGenerator metric 0.9935857900579746\n"
     ]
    }
   ],
   "source": [
    "import sklearn\n",
    "from sklearn import *\n",
    "def fit_predict(clf, X_train, y_train, X_test, y_test):\n",
    "    clf.fit(X_train, y_train)\n",
    "    return sklearn.metrics.roc_auc_score(y_test, clf.predict_proba(X_test)[:, 1])\n",
    "\n",
    "\n",
    "\n",
    "dataset = sklearn.datasets.load_breast_cancer()\n",
    "clf = sklearn.ensemble.RandomForestClassifier(n_estimators=25, max_depth=6)\n",
    "X_train, X_test, y_train, y_test = sklearn.model_selection.train_test_split(\n",
    "    pd.DataFrame(dataset.data), pd.DataFrame(dataset.target, columns=[\"target\"]), test_size=0.33, random_state=42)\n",
    "print(\"initial metric\", fit_predict(clf, X_train, y_train, X_test, y_test))\n",
    "\n",
    "new_train1, new_target1 = OriginalGenerator().generate_data_pipe(X_train, y_train, X_test, )\n",
    "print(\"OriginalGenerator metric\", fit_predict(clf, new_train1, new_target1, X_test, y_test))\n",
    "\n",
    "new_train1, new_target1 = GANGenerator().generate_data_pipe(X_train, y_train, X_test, )\n",
    "print(\"GANGenerator metric\", fit_predict(clf, new_train1, new_target1, X_test, y_test))"
   ]
  }
 ],
 "metadata": {
  "kernelspec": {
   "display_name": "Python 3.8.13 ('venvpy3.8_RD')",
   "language": "python",
   "name": "python3"
  },
  "language_info": {
   "codemirror_mode": {
    "name": "ipython",
    "version": 3
   },
   "file_extension": ".py",
   "mimetype": "text/x-python",
   "name": "python",
   "nbconvert_exporter": "python",
   "pygments_lexer": "ipython3",
   "version": "3.8.13"
  },
  "orig_nbformat": 4,
  "vscode": {
   "interpreter": {
    "hash": "9137d29ba4dde25eef48c740daeb076dd4c9c317b78129463f4dfd6ef2f05da6"
   }
  }
 },
 "nbformat": 4,
 "nbformat_minor": 2
}
