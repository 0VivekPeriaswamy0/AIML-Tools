{
 "cells": [
  {
   "cell_type": "code",
   "execution_count": 2,
   "metadata": {},
   "outputs": [
    {
     "name": "stdout",
     "output_type": "stream",
     "text": [
      "Checking whether there is an H2O instance running at http://localhost:54321 ..... not found.\n",
      "Attempting to start a local H2O server...\n",
      "; Java HotSpot(TM) 64-Bit Server VM (build 25.202-b08, mixed mode)\n",
      "  Starting server from C:\\Users\\vivek.p\\AppData\\Roaming\\Python\\Python38\\site-packages\\h2o\\backend\\bin\\h2o.jar\n",
      "  Ice root: C:\\Users\\vivek.p\\AppData\\Local\\Temp\\tmp3se27kft\n",
      "  JVM stdout: C:\\Users\\vivek.p\\AppData\\Local\\Temp\\tmp3se27kft\\h2o_vivek_p_started_from_python.out\n",
      "  JVM stderr: C:\\Users\\vivek.p\\AppData\\Local\\Temp\\tmp3se27kft\\h2o_vivek_p_started_from_python.err\n",
      "  Server is running at http://127.0.0.1:54321\n",
      "Connecting to H2O server at http://127.0.0.1:54321 ... successful.\n"
     ]
    },
    {
     "data": {
      "text/html": [
       "\n",
       "<style>\n",
       "\n",
       "#h2o-table-1.h2o-container {\n",
       "  overflow-x: auto;\n",
       "}\n",
       "#h2o-table-1 .h2o-table {\n",
       "  /* width: 100%; */\n",
       "  margin-top: 1em;\n",
       "  margin-bottom: 1em;\n",
       "}\n",
       "#h2o-table-1 .h2o-table caption {\n",
       "  white-space: nowrap;\n",
       "  caption-side: top;\n",
       "  text-align: left;\n",
       "  /* margin-left: 1em; */\n",
       "  margin: 0;\n",
       "  font-size: larger;\n",
       "}\n",
       "#h2o-table-1 .h2o-table thead {\n",
       "  white-space: nowrap; \n",
       "  position: sticky;\n",
       "  top: 0;\n",
       "  box-shadow: 0 -1px inset;\n",
       "}\n",
       "#h2o-table-1 .h2o-table tbody {\n",
       "  overflow: auto;\n",
       "}\n",
       "#h2o-table-1 .h2o-table th,\n",
       "#h2o-table-1 .h2o-table td {\n",
       "  text-align: right;\n",
       "  /* border: 1px solid; */\n",
       "}\n",
       "#h2o-table-1 .h2o-table tr:nth-child(even) {\n",
       "  /* background: #F5F5F5 */\n",
       "}\n",
       "\n",
       "</style>      \n",
       "<div id=\"h2o-table-1\" class=\"h2o-container\">\n",
       "  <table class=\"h2o-table\">\n",
       "    <caption></caption>\n",
       "    <thead></thead>\n",
       "    <tbody><tr><td>H2O_cluster_uptime:</td>\n",
       "<td>04 secs</td></tr>\n",
       "<tr><td>H2O_cluster_timezone:</td>\n",
       "<td>Asia/Kolkata</td></tr>\n",
       "<tr><td>H2O_data_parsing_timezone:</td>\n",
       "<td>UTC</td></tr>\n",
       "<tr><td>H2O_cluster_version:</td>\n",
       "<td>3.38.0.1</td></tr>\n",
       "<tr><td>H2O_cluster_version_age:</td>\n",
       "<td>17 days </td></tr>\n",
       "<tr><td>H2O_cluster_name:</td>\n",
       "<td>H2O_from_python_vivek_p_5w8pbt</td></tr>\n",
       "<tr><td>H2O_cluster_total_nodes:</td>\n",
       "<td>1</td></tr>\n",
       "<tr><td>H2O_cluster_free_memory:</td>\n",
       "<td>3.502 Gb</td></tr>\n",
       "<tr><td>H2O_cluster_total_cores:</td>\n",
       "<td>0</td></tr>\n",
       "<tr><td>H2O_cluster_allowed_cores:</td>\n",
       "<td>0</td></tr>\n",
       "<tr><td>H2O_cluster_status:</td>\n",
       "<td>locked, healthy</td></tr>\n",
       "<tr><td>H2O_connection_url:</td>\n",
       "<td>http://127.0.0.1:54321</td></tr>\n",
       "<tr><td>H2O_connection_proxy:</td>\n",
       "<td>{\"http\": null, \"https\": null}</td></tr>\n",
       "<tr><td>H2O_internal_security:</td>\n",
       "<td>False</td></tr>\n",
       "<tr><td>Python_version:</td>\n",
       "<td>3.8.13 final</td></tr></tbody>\n",
       "  </table>\n",
       "</div>\n"
      ],
      "text/plain": [
       "--------------------------  ------------------------------\n",
       "H2O_cluster_uptime:         04 secs\n",
       "H2O_cluster_timezone:       Asia/Kolkata\n",
       "H2O_data_parsing_timezone:  UTC\n",
       "H2O_cluster_version:        3.38.0.1\n",
       "H2O_cluster_version_age:    17 days\n",
       "H2O_cluster_name:           H2O_from_python_vivek_p_5w8pbt\n",
       "H2O_cluster_total_nodes:    1\n",
       "H2O_cluster_free_memory:    3.502 Gb\n",
       "H2O_cluster_total_cores:    0\n",
       "H2O_cluster_allowed_cores:  0\n",
       "H2O_cluster_status:         locked, healthy\n",
       "H2O_connection_url:         http://127.0.0.1:54321\n",
       "H2O_connection_proxy:       {\"http\": null, \"https\": null}\n",
       "H2O_internal_security:      False\n",
       "Python_version:             3.8.13 final\n",
       "--------------------------  ------------------------------"
      ]
     },
     "metadata": {},
     "output_type": "display_data"
    }
   ],
   "source": [
    "##USE venvpy3.8_RD\n",
    "\n",
    "\n",
    "import h2o\n",
    "from h2o.automl import H2OAutoML\n",
    "\n",
    "# Start the H2O cluster (locally)\n",
    "h2o.init()"
   ]
  },
  {
   "cell_type": "code",
   "execution_count": 3,
   "metadata": {},
   "outputs": [
    {
     "name": "stdout",
     "output_type": "stream",
     "text": [
      "Parse progress: |████████████████████████████████████████████████████████████████| (done) 100%\n",
      "Parse progress: |████████████████████████████████████████████████████████████████| (done) 100%\n"
     ]
    }
   ],
   "source": [
    "# Import a sample binary outcome train/test set into H2O\n",
    "train = h2o.import_file(\"https://s3.amazonaws.com/erin-data/higgs/higgs_train_10k.csv\")\n",
    "test = h2o.import_file(\"https://s3.amazonaws.com/erin-data/higgs/higgs_test_5k.csv\")"
   ]
  },
  {
   "cell_type": "code",
   "execution_count": 4,
   "metadata": {},
   "outputs": [],
   "source": [
    "# Identify predictors and response\n",
    "x = train.columns\n",
    "y = \"response\"\n",
    "x.remove(y)\n",
    "\n",
    "# For binary classification, response should be a factor\n",
    "train[y] = train[y].asfactor()\n",
    "test[y] = test[y].asfactor()"
   ]
  },
  {
   "cell_type": "code",
   "execution_count": 5,
   "metadata": {},
   "outputs": [
    {
     "name": "stdout",
     "output_type": "stream",
     "text": [
      "AutoML progress: |\n",
      "18:07:28.62: AutoML: XGBoost is not available; skipping it.\n",
      "\n",
      "███████████████████████████████████████████████████████████████| (done) 100%\n"
     ]
    },
    {
     "data": {
      "text/html": [
       "<table class='dataframe'>\n",
       "<thead>\n",
       "<tr><th>model_id                                               </th><th style=\"text-align: right;\">     auc</th><th style=\"text-align: right;\">  logloss</th><th style=\"text-align: right;\">   aucpr</th><th style=\"text-align: right;\">  mean_per_class_error</th><th style=\"text-align: right;\">    rmse</th><th style=\"text-align: right;\">     mse</th></tr>\n",
       "</thead>\n",
       "<tbody>\n",
       "<tr><td>StackedEnsemble_AllModels_1_AutoML_1_20221006_180728   </td><td style=\"text-align: right;\">0.791438</td><td style=\"text-align: right;\"> 0.547618</td><td style=\"text-align: right;\">0.808515</td><td style=\"text-align: right;\">              0.318114</td><td style=\"text-align: right;\">0.430805</td><td style=\"text-align: right;\">0.185593</td></tr>\n",
       "<tr><td>StackedEnsemble_BestOfFamily_1_AutoML_1_20221006_180728</td><td style=\"text-align: right;\">0.788605</td><td style=\"text-align: right;\"> 0.550575</td><td style=\"text-align: right;\">0.805837</td><td style=\"text-align: right;\">              0.319968</td><td style=\"text-align: right;\">0.43216 </td><td style=\"text-align: right;\">0.186763</td></tr>\n",
       "<tr><td>GBM_5_AutoML_1_20221006_180728                         </td><td style=\"text-align: right;\">0.7829  </td><td style=\"text-align: right;\"> 0.558001</td><td style=\"text-align: right;\">0.802101</td><td style=\"text-align: right;\">              0.336502</td><td style=\"text-align: right;\">0.435272</td><td style=\"text-align: right;\">0.189462</td></tr>\n",
       "<tr><td>GBM_1_AutoML_1_20221006_180728                         </td><td style=\"text-align: right;\">0.779512</td><td style=\"text-align: right;\"> 0.560256</td><td style=\"text-align: right;\">0.799536</td><td style=\"text-align: right;\">              0.327511</td><td style=\"text-align: right;\">0.436609</td><td style=\"text-align: right;\">0.190627</td></tr>\n",
       "<tr><td>GBM_2_AutoML_1_20221006_180728                         </td><td style=\"text-align: right;\">0.778879</td><td style=\"text-align: right;\"> 0.56126 </td><td style=\"text-align: right;\">0.797195</td><td style=\"text-align: right;\">              0.329521</td><td style=\"text-align: right;\">0.43698 </td><td style=\"text-align: right;\">0.190952</td></tr>\n",
       "<tr><td>GBM_grid_1_AutoML_1_20221006_180728_model_2            </td><td style=\"text-align: right;\">0.77786 </td><td style=\"text-align: right;\"> 0.564655</td><td style=\"text-align: right;\">0.795359</td><td style=\"text-align: right;\">              0.33376 </td><td style=\"text-align: right;\">0.438088</td><td style=\"text-align: right;\">0.191921</td></tr>\n",
       "<tr><td>GBM_3_AutoML_1_20221006_180728                         </td><td style=\"text-align: right;\">0.776908</td><td style=\"text-align: right;\"> 0.563372</td><td style=\"text-align: right;\">0.793988</td><td style=\"text-align: right;\">              0.321192</td><td style=\"text-align: right;\">0.437927</td><td style=\"text-align: right;\">0.19178 </td></tr>\n",
       "<tr><td>GBM_grid_1_AutoML_1_20221006_180728_model_3            </td><td style=\"text-align: right;\">0.772926</td><td style=\"text-align: right;\"> 0.568181</td><td style=\"text-align: right;\">0.791195</td><td style=\"text-align: right;\">              0.322808</td><td style=\"text-align: right;\">0.439997</td><td style=\"text-align: right;\">0.193598</td></tr>\n",
       "<tr><td>GBM_4_AutoML_1_20221006_180728                         </td><td style=\"text-align: right;\">0.771118</td><td style=\"text-align: right;\"> 0.569616</td><td style=\"text-align: right;\">0.791326</td><td style=\"text-align: right;\">              0.33599 </td><td style=\"text-align: right;\">0.441149</td><td style=\"text-align: right;\">0.194612</td></tr>\n",
       "<tr><td>GBM_grid_1_AutoML_1_20221006_180728_model_4            </td><td style=\"text-align: right;\">0.770522</td><td style=\"text-align: right;\"> 0.569244</td><td style=\"text-align: right;\">0.7891  </td><td style=\"text-align: right;\">              0.349737</td><td style=\"text-align: right;\">0.440792</td><td style=\"text-align: right;\">0.194297</td></tr>\n",
       "<tr><td>GBM_grid_1_AutoML_1_20221006_180728_model_5            </td><td style=\"text-align: right;\">0.770455</td><td style=\"text-align: right;\"> 0.573213</td><td style=\"text-align: right;\">0.788108</td><td style=\"text-align: right;\">              0.328679</td><td style=\"text-align: right;\">0.442487</td><td style=\"text-align: right;\">0.195795</td></tr>\n",
       "<tr><td>DRF_1_AutoML_1_20221006_180728                         </td><td style=\"text-align: right;\">0.762437</td><td style=\"text-align: right;\"> 0.58336 </td><td style=\"text-align: right;\">0.774864</td><td style=\"text-align: right;\">              0.351653</td><td style=\"text-align: right;\">0.446561</td><td style=\"text-align: right;\">0.199417</td></tr>\n",
       "<tr><td>XRT_1_AutoML_1_20221006_180728                         </td><td style=\"text-align: right;\">0.758648</td><td style=\"text-align: right;\"> 0.586822</td><td style=\"text-align: right;\">0.77324 </td><td style=\"text-align: right;\">              0.352727</td><td style=\"text-align: right;\">0.448252</td><td style=\"text-align: right;\">0.20093 </td></tr>\n",
       "<tr><td>GBM_grid_1_AutoML_1_20221006_180728_model_1            </td><td style=\"text-align: right;\">0.747658</td><td style=\"text-align: right;\"> 0.59151 </td><td style=\"text-align: right;\">0.763211</td><td style=\"text-align: right;\">              0.359419</td><td style=\"text-align: right;\">0.451053</td><td style=\"text-align: right;\">0.203448</td></tr>\n",
       "<tr><td>DeepLearning_grid_2_AutoML_1_20221006_180728_model_2   </td><td style=\"text-align: right;\">0.746182</td><td style=\"text-align: right;\"> 0.594578</td><td style=\"text-align: right;\">0.758011</td><td style=\"text-align: right;\">              0.355251</td><td style=\"text-align: right;\">0.452213</td><td style=\"text-align: right;\">0.204496</td></tr>\n",
       "<tr><td>DeepLearning_grid_2_AutoML_1_20221006_180728_model_1   </td><td style=\"text-align: right;\">0.742686</td><td style=\"text-align: right;\"> 0.608942</td><td style=\"text-align: right;\">0.74521 </td><td style=\"text-align: right;\">              0.344528</td><td style=\"text-align: right;\">0.455772</td><td style=\"text-align: right;\">0.207728</td></tr>\n",
       "<tr><td>DeepLearning_grid_3_AutoML_1_20221006_180728_model_2   </td><td style=\"text-align: right;\">0.740129</td><td style=\"text-align: right;\"> 0.61123 </td><td style=\"text-align: right;\">0.754733</td><td style=\"text-align: right;\">              0.35858 </td><td style=\"text-align: right;\">0.459984</td><td style=\"text-align: right;\">0.211585</td></tr>\n",
       "<tr><td>DeepLearning_grid_3_AutoML_1_20221006_180728_model_1   </td><td style=\"text-align: right;\">0.739715</td><td style=\"text-align: right;\"> 0.61156 </td><td style=\"text-align: right;\">0.742817</td><td style=\"text-align: right;\">              0.350752</td><td style=\"text-align: right;\">0.457422</td><td style=\"text-align: right;\">0.209235</td></tr>\n",
       "<tr><td>DeepLearning_grid_1_AutoML_1_20221006_180728_model_1   </td><td style=\"text-align: right;\">0.737239</td><td style=\"text-align: right;\"> 0.623537</td><td style=\"text-align: right;\">0.74136 </td><td style=\"text-align: right;\">              0.368693</td><td style=\"text-align: right;\">0.459712</td><td style=\"text-align: right;\">0.211335</td></tr>\n",
       "<tr><td>DeepLearning_1_AutoML_1_20221006_180728                </td><td style=\"text-align: right;\">0.707591</td><td style=\"text-align: right;\"> 0.62491 </td><td style=\"text-align: right;\">0.71472 </td><td style=\"text-align: right;\">              0.397742</td><td style=\"text-align: right;\">0.465997</td><td style=\"text-align: right;\">0.217154</td></tr>\n",
       "<tr><td>DeepLearning_grid_1_AutoML_1_20221006_180728_model_2   </td><td style=\"text-align: right;\">0.706673</td><td style=\"text-align: right;\"> 0.631174</td><td style=\"text-align: right;\">0.710013</td><td style=\"text-align: right;\">              0.388482</td><td style=\"text-align: right;\">0.466765</td><td style=\"text-align: right;\">0.217869</td></tr>\n",
       "<tr><td>GLM_1_AutoML_1_20221006_180728                         </td><td style=\"text-align: right;\">0.682648</td><td style=\"text-align: right;\"> 0.63852 </td><td style=\"text-align: right;\">0.680719</td><td style=\"text-align: right;\">              0.397234</td><td style=\"text-align: right;\">0.472683</td><td style=\"text-align: right;\">0.223429</td></tr>\n",
       "</tbody>\n",
       "</table><pre style='font-size: smaller; margin-bottom: 1em;'>[22 rows x 7 columns]</pre>"
      ],
      "text/plain": [
       "model_id                                                      auc    logloss     aucpr    mean_per_class_error      rmse       mse\n",
       "-------------------------------------------------------  --------  ---------  --------  ----------------------  --------  --------\n",
       "StackedEnsemble_AllModels_1_AutoML_1_20221006_180728     0.791438   0.547618  0.808515                0.318114  0.430805  0.185593\n",
       "StackedEnsemble_BestOfFamily_1_AutoML_1_20221006_180728  0.788605   0.550575  0.805837                0.319968  0.43216   0.186763\n",
       "GBM_5_AutoML_1_20221006_180728                           0.7829     0.558001  0.802101                0.336502  0.435272  0.189462\n",
       "GBM_1_AutoML_1_20221006_180728                           0.779512   0.560256  0.799536                0.327511  0.436609  0.190627\n",
       "GBM_2_AutoML_1_20221006_180728                           0.778879   0.56126   0.797195                0.329521  0.43698   0.190952\n",
       "GBM_grid_1_AutoML_1_20221006_180728_model_2              0.77786    0.564655  0.795359                0.33376   0.438088  0.191921\n",
       "GBM_3_AutoML_1_20221006_180728                           0.776908   0.563372  0.793988                0.321192  0.437927  0.19178\n",
       "GBM_grid_1_AutoML_1_20221006_180728_model_3              0.772926   0.568181  0.791195                0.322808  0.439997  0.193598\n",
       "GBM_4_AutoML_1_20221006_180728                           0.771118   0.569616  0.791326                0.33599   0.441149  0.194612\n",
       "GBM_grid_1_AutoML_1_20221006_180728_model_4              0.770522   0.569244  0.7891                  0.349737  0.440792  0.194297\n",
       "GBM_grid_1_AutoML_1_20221006_180728_model_5              0.770455   0.573213  0.788108                0.328679  0.442487  0.195795\n",
       "DRF_1_AutoML_1_20221006_180728                           0.762437   0.58336   0.774864                0.351653  0.446561  0.199417\n",
       "XRT_1_AutoML_1_20221006_180728                           0.758648   0.586822  0.77324                 0.352727  0.448252  0.20093\n",
       "GBM_grid_1_AutoML_1_20221006_180728_model_1              0.747658   0.59151   0.763211                0.359419  0.451053  0.203448\n",
       "DeepLearning_grid_2_AutoML_1_20221006_180728_model_2     0.746182   0.594578  0.758011                0.355251  0.452213  0.204496\n",
       "DeepLearning_grid_2_AutoML_1_20221006_180728_model_1     0.742686   0.608942  0.74521                 0.344528  0.455772  0.207728\n",
       "DeepLearning_grid_3_AutoML_1_20221006_180728_model_2     0.740129   0.61123   0.754733                0.35858   0.459984  0.211585\n",
       "DeepLearning_grid_3_AutoML_1_20221006_180728_model_1     0.739715   0.61156   0.742817                0.350752  0.457422  0.209235\n",
       "DeepLearning_grid_1_AutoML_1_20221006_180728_model_1     0.737239   0.623537  0.74136                 0.368693  0.459712  0.211335\n",
       "DeepLearning_1_AutoML_1_20221006_180728                  0.707591   0.62491   0.71472                 0.397742  0.465997  0.217154\n",
       "DeepLearning_grid_1_AutoML_1_20221006_180728_model_2     0.706673   0.631174  0.710013                0.388482  0.466765  0.217869\n",
       "GLM_1_AutoML_1_20221006_180728                           0.682648   0.63852   0.680719                0.397234  0.472683  0.223429\n",
       "[22 rows x 7 columns]\n"
      ]
     },
     "execution_count": 5,
     "metadata": {},
     "output_type": "execute_result"
    }
   ],
   "source": [
    "# Run AutoML for 20 base models\n",
    "aml = H2OAutoML(max_models=20, seed=1)\n",
    "aml.train(x=x, y=y, training_frame=train)\n",
    "\n",
    "# View the AutoML Leaderboard\n",
    "lb = aml.leaderboard\n",
    "lb.head(rows=lb.nrows)  # Print all rows instead of default (10 rows)"
   ]
  },
  {
   "cell_type": "code",
   "execution_count": 6,
   "metadata": {},
   "outputs": [
    {
     "name": "stdout",
     "output_type": "stream",
     "text": [
      "stackedensemble prediction progress: |███████████████████████████████████████████| (done) 100%\n",
      "stackedensemble prediction progress: |███████████████████████████████████████████| (done) 100%\n"
     ]
    }
   ],
   "source": [
    "# To generate predictions on a test set, you can make predictions\n",
    "# directly on the `H2OAutoML` object or on the leader model\n",
    "# object directly\n",
    "preds = aml.predict(test)\n",
    "\n",
    "# or:\n",
    "preds = aml.leader.predict(test)"
   ]
  },
  {
   "cell_type": "code",
   "execution_count": 7,
   "metadata": {},
   "outputs": [
    {
     "data": {
      "text/html": [
       "<table class='dataframe'>\n",
       "<thead>\n",
       "<tr><th>model_id                                               </th><th style=\"text-align: right;\">     auc</th><th style=\"text-align: right;\">  logloss</th><th style=\"text-align: right;\">   aucpr</th><th style=\"text-align: right;\">  mean_per_class_error</th><th style=\"text-align: right;\">    rmse</th><th style=\"text-align: right;\">     mse</th><th style=\"text-align: right;\">  training_time_ms</th><th style=\"text-align: right;\">  predict_time_per_row_ms</th><th>algo           </th></tr>\n",
       "</thead>\n",
       "<tbody>\n",
       "<tr><td>StackedEnsemble_AllModels_1_AutoML_1_20221006_180728   </td><td style=\"text-align: right;\">0.791438</td><td style=\"text-align: right;\"> 0.547618</td><td style=\"text-align: right;\">0.808515</td><td style=\"text-align: right;\">              0.318114</td><td style=\"text-align: right;\">0.430805</td><td style=\"text-align: right;\">0.185593</td><td style=\"text-align: right;\">             22437</td><td style=\"text-align: right;\">                 0.123647</td><td>StackedEnsemble</td></tr>\n",
       "<tr><td>StackedEnsemble_BestOfFamily_1_AutoML_1_20221006_180728</td><td style=\"text-align: right;\">0.788605</td><td style=\"text-align: right;\"> 0.550575</td><td style=\"text-align: right;\">0.805837</td><td style=\"text-align: right;\">              0.319968</td><td style=\"text-align: right;\">0.43216 </td><td style=\"text-align: right;\">0.186763</td><td style=\"text-align: right;\">             10903</td><td style=\"text-align: right;\">                 0.021101</td><td>StackedEnsemble</td></tr>\n",
       "<tr><td>GBM_5_AutoML_1_20221006_180728                         </td><td style=\"text-align: right;\">0.7829  </td><td style=\"text-align: right;\"> 0.558001</td><td style=\"text-align: right;\">0.802101</td><td style=\"text-align: right;\">              0.336502</td><td style=\"text-align: right;\">0.435272</td><td style=\"text-align: right;\">0.189462</td><td style=\"text-align: right;\">               809</td><td style=\"text-align: right;\">                 0.006375</td><td>GBM            </td></tr>\n",
       "<tr><td>GBM_1_AutoML_1_20221006_180728                         </td><td style=\"text-align: right;\">0.779512</td><td style=\"text-align: right;\"> 0.560256</td><td style=\"text-align: right;\">0.799536</td><td style=\"text-align: right;\">              0.327511</td><td style=\"text-align: right;\">0.436609</td><td style=\"text-align: right;\">0.190627</td><td style=\"text-align: right;\">              1974</td><td style=\"text-align: right;\">                 0.010146</td><td>GBM            </td></tr>\n",
       "<tr><td>GBM_2_AutoML_1_20221006_180728                         </td><td style=\"text-align: right;\">0.778879</td><td style=\"text-align: right;\"> 0.56126 </td><td style=\"text-align: right;\">0.797195</td><td style=\"text-align: right;\">              0.329521</td><td style=\"text-align: right;\">0.43698 </td><td style=\"text-align: right;\">0.190952</td><td style=\"text-align: right;\">               980</td><td style=\"text-align: right;\">                 0.010194</td><td>GBM            </td></tr>\n",
       "<tr><td>GBM_grid_1_AutoML_1_20221006_180728_model_2            </td><td style=\"text-align: right;\">0.77786 </td><td style=\"text-align: right;\"> 0.564655</td><td style=\"text-align: right;\">0.795359</td><td style=\"text-align: right;\">              0.33376 </td><td style=\"text-align: right;\">0.438088</td><td style=\"text-align: right;\">0.191921</td><td style=\"text-align: right;\">              1029</td><td style=\"text-align: right;\">                 0.008015</td><td>GBM            </td></tr>\n",
       "<tr><td>GBM_3_AutoML_1_20221006_180728                         </td><td style=\"text-align: right;\">0.776908</td><td style=\"text-align: right;\"> 0.563372</td><td style=\"text-align: right;\">0.793988</td><td style=\"text-align: right;\">              0.321192</td><td style=\"text-align: right;\">0.437927</td><td style=\"text-align: right;\">0.19178 </td><td style=\"text-align: right;\">              1043</td><td style=\"text-align: right;\">                 0.007293</td><td>GBM            </td></tr>\n",
       "<tr><td>GBM_grid_1_AutoML_1_20221006_180728_model_3            </td><td style=\"text-align: right;\">0.772926</td><td style=\"text-align: right;\"> 0.568181</td><td style=\"text-align: right;\">0.791195</td><td style=\"text-align: right;\">              0.322808</td><td style=\"text-align: right;\">0.439997</td><td style=\"text-align: right;\">0.193598</td><td style=\"text-align: right;\">               667</td><td style=\"text-align: right;\">                 0.010837</td><td>GBM            </td></tr>\n",
       "<tr><td>GBM_4_AutoML_1_20221006_180728                         </td><td style=\"text-align: right;\">0.771118</td><td style=\"text-align: right;\"> 0.569616</td><td style=\"text-align: right;\">0.791326</td><td style=\"text-align: right;\">              0.33599 </td><td style=\"text-align: right;\">0.441149</td><td style=\"text-align: right;\">0.194612</td><td style=\"text-align: right;\">               901</td><td style=\"text-align: right;\">                 0.008494</td><td>GBM            </td></tr>\n",
       "<tr><td>GBM_grid_1_AutoML_1_20221006_180728_model_4            </td><td style=\"text-align: right;\">0.770522</td><td style=\"text-align: right;\"> 0.569244</td><td style=\"text-align: right;\">0.7891  </td><td style=\"text-align: right;\">              0.349737</td><td style=\"text-align: right;\">0.440792</td><td style=\"text-align: right;\">0.194297</td><td style=\"text-align: right;\">              1574</td><td style=\"text-align: right;\">                 0.012903</td><td>GBM            </td></tr>\n",
       "</tbody>\n",
       "</table><pre style='font-size: smaller; margin-bottom: 1em;'>[22 rows x 10 columns]</pre>"
      ],
      "text/plain": [
       "model_id                                                      auc    logloss     aucpr    mean_per_class_error      rmse       mse    training_time_ms    predict_time_per_row_ms  algo\n",
       "-------------------------------------------------------  --------  ---------  --------  ----------------------  --------  --------  ------------------  -------------------------  ---------------\n",
       "StackedEnsemble_AllModels_1_AutoML_1_20221006_180728     0.791438   0.547618  0.808515                0.318114  0.430805  0.185593               22437                   0.123647  StackedEnsemble\n",
       "StackedEnsemble_BestOfFamily_1_AutoML_1_20221006_180728  0.788605   0.550575  0.805837                0.319968  0.43216   0.186763               10903                   0.021101  StackedEnsemble\n",
       "GBM_5_AutoML_1_20221006_180728                           0.7829     0.558001  0.802101                0.336502  0.435272  0.189462                 809                   0.006375  GBM\n",
       "GBM_1_AutoML_1_20221006_180728                           0.779512   0.560256  0.799536                0.327511  0.436609  0.190627                1974                   0.010146  GBM\n",
       "GBM_2_AutoML_1_20221006_180728                           0.778879   0.56126   0.797195                0.329521  0.43698   0.190952                 980                   0.010194  GBM\n",
       "GBM_grid_1_AutoML_1_20221006_180728_model_2              0.77786    0.564655  0.795359                0.33376   0.438088  0.191921                1029                   0.008015  GBM\n",
       "GBM_3_AutoML_1_20221006_180728                           0.776908   0.563372  0.793988                0.321192  0.437927  0.19178                 1043                   0.007293  GBM\n",
       "GBM_grid_1_AutoML_1_20221006_180728_model_3              0.772926   0.568181  0.791195                0.322808  0.439997  0.193598                 667                   0.010837  GBM\n",
       "GBM_4_AutoML_1_20221006_180728                           0.771118   0.569616  0.791326                0.33599   0.441149  0.194612                 901                   0.008494  GBM\n",
       "GBM_grid_1_AutoML_1_20221006_180728_model_4              0.770522   0.569244  0.7891                  0.349737  0.440792  0.194297                1574                   0.012903  GBM\n",
       "[22 rows x 10 columns]\n"
      ]
     },
     "execution_count": 7,
     "metadata": {},
     "output_type": "execute_result"
    }
   ],
   "source": [
    "# Get leaderboard with all possible columns\n",
    "lb = h2o.automl.get_leaderboard(aml, extra_columns = \"ALL\")\n",
    "lb"
   ]
  },
  {
   "cell_type": "code",
   "execution_count": 8,
   "metadata": {},
   "outputs": [],
   "source": [
    "# Get the best model using the metric\n",
    "m = aml.leader\n",
    "# this is equivalent to\n",
    "m = aml.get_best_model()\n",
    "\n",
    "# Get the best model using a non-default metric\n",
    "m = aml.get_best_model(criterion=\"logloss\")\n",
    "\n",
    "# Get the best XGBoost model using default sort metric\n",
    "xgb = aml.get_best_model(algorithm=\"xgboost\")\n",
    "\n",
    "# Get the best XGBoost model, ranked by logloss\n",
    "xgb = aml.get_best_model(algorithm=\"xgboost\", criterion=\"logloss\")"
   ]
  },
  {
   "cell_type": "code",
   "execution_count": 10,
   "metadata": {},
   "outputs": [
    {
     "name": "stdout",
     "output_type": "stream",
     "text": [
      "timestamp    level    stage       message                                                                                                                                                            name    value\n",
      "18:07:28.48  INFO     Workflow    Project: AutoML_1_20221006_180728\n",
      "18:07:28.49  INFO     Validation  5-fold cross-validation will be used.\n",
      "18:07:28.52  INFO     Validation  Setting stopping tolerance adaptively based on the training frame: 0.01\n",
      "18:07:28.52  INFO     Validation  Build control seed: 1\n",
      "18:07:28.52  INFO     DataImport  training frame: Frame key: AutoML_1_20221006_180728_training_py_1_sid_93e8    cols: 29    rows: 10000  chunks: 32    size: 2084812  checksum: 5558256555406473290\n",
      "18:07:28.53  INFO     DataImport  validation frame: NULL\n",
      "18:07:28.53  INFO     DataImport  leaderboard frame: NULL\n",
      "18:07:28.53  INFO     DataImport  blending frame: NULL\n",
      "18:07:28.53  INFO     DataImport  response column: response\n",
      "18:07:28.53  INFO     DataImport  fold column: null\n",
      "[125 rows x 6 columns]\n",
      "\n",
      "{'creation_epoch': '1665059848', 'start_epoch': '1665059848', 'start_GLM_def_1': '1665059848', 'start_GBM_def_5': '1665059853', 'start_DRF_def_1': '1665059862', 'start_GBM_def_2': '1665059876', 'start_GBM_def_3': '1665059883', 'start_GBM_def_4': '1665059888', 'start_DRF_XRT': '1665059896', 'start_GBM_def_1': '1665059912', 'start_DeepLearning_def_1': '1665059917', 'start_GBM_grid_1': '1665059922', 'start_DeepLearning_grid_1': '1665059970', 'start_DeepLearning_grid_2': '1665060341', 'start_DeepLearning_grid_3': '1665060759', 'start_StackedEnsemble_best_of_family_xglm': '1665061225', 'start_StackedEnsemble_all_xglm': '1665061236', 'stop_epoch': '1665061259', 'duration_secs': '1410'}\n"
     ]
    }
   ],
   "source": [
    "# Get AutoML event log\n",
    "log = aml.event_log\n",
    "print(log)\n",
    "\n",
    "# Get training timing info\n",
    "info = aml.training_info\n",
    "print(info)"
   ]
  }
 ],
 "metadata": {
  "kernelspec": {
   "display_name": "Python 3.8.13 ('venvpy3.8_RD')",
   "language": "python",
   "name": "python3"
  },
  "language_info": {
   "codemirror_mode": {
    "name": "ipython",
    "version": 3
   },
   "file_extension": ".py",
   "mimetype": "text/x-python",
   "name": "python",
   "nbconvert_exporter": "python",
   "pygments_lexer": "ipython3",
   "version": "3.8.13"
  },
  "orig_nbformat": 4,
  "vscode": {
   "interpreter": {
    "hash": "9137d29ba4dde25eef48c740daeb076dd4c9c317b78129463f4dfd6ef2f05da6"
   }
  }
 },
 "nbformat": 4,
 "nbformat_minor": 2
}
