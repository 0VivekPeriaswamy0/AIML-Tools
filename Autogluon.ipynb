{
 "cells": [
  {
   "cell_type": "code",
   "execution_count": 1,
   "metadata": {},
   "outputs": [
    {
     "name": "stdout",
     "output_type": "stream",
     "text": [
      "There are 2 directories and 3 files in ...\Project\\Workspace\\Datasets\\Unstructured\\Sentiment_Analysis\\aclImdb'\n",
      "There are 2 directories and 3 files in ...\Project\\Workspace\\Datasets\\Unstructured\\Sentiment_Analysis\\aclImdb\\test'\n",
      "There are 0 directories and 12500 files in ...\Project\\Workspace\\Datasets\\Unstructured\\Sentiment_Analysis\\aclImdb\\test\\neg'\n",
      "There are 0 directories and 12500 files in ...\Project\\Workspace\\Datasets\\Unstructured\\Sentiment_Analysis\\aclImdb\\test\\pos'\n",
      "There are 3 directories and 5 files in ...\Project\\Workspace\\Datasets\\Unstructured\\Sentiment_Analysis\\aclImdb\\train'\n",
      "There are 0 directories and 12500 files in ...\Project\\Workspace\\Datasets\\Unstructured\\Sentiment_Analysis\\aclImdb\\train\\neg'\n",
      "There are 0 directories and 12500 files in ...\Project\\Workspace\\Datasets\\Unstructured\\Sentiment_Analysis\\aclImdb\\train\\pos'\n",
      "There are 0 directories and 50000 files in ...\Project\\Workspace\\Datasets\\Unstructured\\Sentiment_Analysis\\aclImdb\\train\\unsup'\n"
     ]
    },
    {
     "data": {
      "text/plain": [
       "(WindowsPath('.../Project/Workspace/Datasets/Unstructured/Sentiment_Analysis/aclImdb/train'),\n",
       " WindowsPath('.../Project/Workspace/Datasets/Unstructured/Sentiment_Analysis/aclImdb/test'))"
      ]
     },
     "execution_count": 1,
     "metadata": {},
     "output_type": "execute_result"
    }
   ],
   "source": [
    "import tarfile\n",
    "import zipfile\n",
    "from pathlib import Path\n",
    "import numpy as np\n",
    "import pandas as pd\n",
    "import os\n",
    "\n",
    "data_path = Path('.../Project/Workspace/Datasets/Unstructured/Sentiment_Analysis/aclImdb')\n",
    "\n",
    "for dirpath,dirnames,filenames in os.walk(data_path):\n",
    "    print(f\"There are {len(dirnames)} directories and {len(filenames)} files in '{dirpath}'\")\n",
    "\n",
    "train_dir = data_path/\"train\"\n",
    "test_dir = data_path/\"test\"\n",
    "labels = ['pos','neg']\n",
    "\n",
    "train_dir, test_dir"
   ]
  },
  {
   "cell_type": "code",
   "execution_count": 2,
   "metadata": {},
   "outputs": [],
   "source": [
    "data = {}\n",
    "for split in [\"train\", \"test\"]:\n",
    "    data[split] = []\n",
    "    for sentiment in [\"neg\", \"pos\"]:\n",
    "        score = 1 if sentiment == \"pos\" else 0\n",
    "\n",
    "        path = os.path.join(data_path, split, sentiment)\n",
    "        file_names = os.listdir(path)\n",
    "        for f_name in file_names:\n",
    "            with open(os.path.join(path, f_name), \"r\") as f:\n",
    "                review = f.read()\n",
    "                data[split].append([review, score])\n",
    "\n",
    "np.random.shuffle(data[\"train\"])        \n",
    "data[\"train\"] = pd.DataFrame(data[\"train\"],\n",
    "                                columns=['text', 'sentiment'])x``\n",
    "train_data = data[\"train\"]\n",
    "# print(data[\"train\"])\n",
    "np.random.shuffle(data[\"test\"])\n",
    "data[\"test\"] = pd.DataFrame(data[\"test\"],\n",
    "                            columns=['text', 'sentiment'])\n",
    "test_data = data[\"test\"]\n",
    "# print(data[\"test\"])"
   ]
  },
  {
   "cell_type": "code",
   "execution_count": 3,
   "metadata": {},
   "outputs": [
    {
     "name": "stderr",
     "output_type": "stream",
     "text": [
      "...\Users\\vivek.p\\Anaconda\\envs\\autogluon_RD\\lib\\site-packages\\tqdm\\auto.py:21: TqdmWarning: IProgress not found. Please update jupyter and ipywidgets. See https://ipywidgets.readthedocs.io/en/stable/user_install.html\n",
      "  from .autonotebook import tqdm as notebook_tqdm\n",
      "Global seed set to 123\n",
      "AutoMM starts to create your model. ✨\n",
      "\n",
      "- Model will be saved to \"...\content\\drive\\MyDrive\\autogluon temp models\\tmp\\202305281300_6e07c9847802497d930e4117a6c24827\".\n",
      "\n",
      "- Validation metric is \"acc\".\n",
      "\n",
      "- To track the learning progress, you can open a terminal and launch Tensorboard:\n",
      "    ```shell\n",
      "    # Assume you have installed tensorboard\n",
      "    tensorboard --logdir ...\content\\drive\\MyDrive\\autogluon temp models\\tmp\\202305281300_6e07c9847802497d930e4117a6c24827\n",
      "    ```\n",
      "\n",
      "Enjoy your coffee, and let AutoMM do the job ☕☕☕ Learn more at https://auto.gluon.ai\n",
      "\n",
      "...\Users\\vivek.p\\Anaconda\\envs\\autogluon_RD\\lib\\site-packages\\autogluon\\multimodal\\utils\\environment.py:93: UserWarning: Only CPU is detected in the instance. This may result in slow speed for MultiModalPredictor. Consider using an instance with GPU support.\n",
      "  warnings.warn(\n",
      "GPU available: False, used: False\n",
      "TPU available: False, using: 0 TPU cores\n",
      "IPU available: False, using: 0 IPUs\n",
      "HPU available: False, using: 0 HPUs\n",
      "\n",
      "  | Name              | Type                         | Params\n",
      "-------------------------------------------------------------------\n",
      "0 | model             | HFAutoModelForTextPrediction | 108 M \n",
      "1 | validation_metric | Accuracy                     | 0     \n",
      "2 | loss_func         | CrossEntropyLoss             | 0     \n",
      "-------------------------------------------------------------------\n",
      "108 M     Trainable params\n",
      "0         Non-trainable params\n",
      "108 M     Total params\n",
      "435.573   Total estimated model params size (MB)\n"
     ]
    },
    {
     "name": "stdout",
     "output_type": "stream",
     "text": [
      "Epoch 0:   0%|          | 4/1375 [01:02<5:57:06, 15.63s/it, loss=0.726, v_num=]"
     ]
    },
    {
     "name": "stderr",
     "output_type": "stream",
     "text": [
      "...\Users\\vivek.p\\Anaconda\\envs\\autogluon_RD\\lib\\site-packages\\pytorch_lightning\\trainer\\call.py:48: UserWarning: Detected KeyboardInterrupt, attempting graceful shutdown...\n",
      "  rank_zero_warn(\"Detected KeyboardInterrupt, attempting graceful shutdown...\")\n"
     ]
    },
    {
     "data": {
      "text/html": [
       "<pre style=\"white-space:pre;overflow-x:auto;line-height:normal;font-family:Menlo,'DejaVu Sans Mono',consolas,'Courier New',monospace\"><span style=\"color: #800000; text-decoration-color: #800000\">╭─────────────────────────────── </span><span style=\"color: #800000; text-decoration-color: #800000; font-weight: bold\">Traceback </span><span style=\"color: #bf7f7f; text-decoration-color: #bf7f7f; font-weight: bold\">(most recent call last)</span><span style=\"color: #800000; text-decoration-color: #800000\"> ────────────────────────────────╮</span>\n",
       "<span style=\"color: #800000; text-decoration-color: #800000\">│</span> in <span style=\"color: #00ff00; text-decoration-color: #00ff00\">&lt;module&gt;</span>:<span style=\"color: #0000ff; text-decoration-color: #0000ff\">19</span>                                                                                   <span style=\"color: #800000; text-decoration-color: #800000\">│</span>\n",
       "<span style=\"color: #800000; text-decoration-color: #800000\">│</span>                                                                                                  <span style=\"color: #800000; text-decoration-color: #800000\">│</span>\n",
       "<span style=\"color: #800000; text-decoration-color: #800000\">│</span>   <span style=\"color: #7f7f7f; text-decoration-color: #7f7f7f\">16 </span><span style=\"color: #7f7f7f; text-decoration-color: #7f7f7f\">│   │   │   │   │   │   │   │   </span>path=model_path,                                            <span style=\"color: #800000; text-decoration-color: #800000\">│</span>\n",
       "<span style=\"color: #800000; text-decoration-color: #800000\">│</span>   <span style=\"color: #7f7f7f; text-decoration-color: #7f7f7f\">17 </span><span style=\"color: #7f7f7f; text-decoration-color: #7f7f7f\">│   │   │   │   │   │   │   │   </span><span style=\"color: #7f7f7f; text-decoration-color: #7f7f7f\"># verbosity=1,</span>                                              <span style=\"color: #800000; text-decoration-color: #800000\">│</span>\n",
       "<span style=\"color: #800000; text-decoration-color: #800000\">│</span>   <span style=\"color: #7f7f7f; text-decoration-color: #7f7f7f\">18 </span><span style=\"color: #7f7f7f; text-decoration-color: #7f7f7f\">│   │   │   │   │   │   │   │   </span>)                                                           <span style=\"color: #800000; text-decoration-color: #800000\">│</span>\n",
       "<span style=\"color: #800000; text-decoration-color: #800000\">│</span> <span style=\"color: #800000; text-decoration-color: #800000\">❱ </span>19 predictor.fit(train_data,                                                                   <span style=\"color: #800000; text-decoration-color: #800000\">│</span>\n",
       "<span style=\"color: #800000; text-decoration-color: #800000\">│</span>   <span style=\"color: #7f7f7f; text-decoration-color: #7f7f7f\">20 </span><span style=\"color: #7f7f7f; text-decoration-color: #7f7f7f\">│   │   │   │   </span>time_limit=<span style=\"color: #0000ff; text-decoration-color: #0000ff\">180</span>, <span style=\"color: #7f7f7f; text-decoration-color: #7f7f7f\"># How long fit() should run for (wall clock time in seco</span>    <span style=\"color: #800000; text-decoration-color: #800000\">│</span>\n",
       "<span style=\"color: #800000; text-decoration-color: #800000\">│</span>   <span style=\"color: #7f7f7f; text-decoration-color: #7f7f7f\">21 </span><span style=\"color: #7f7f7f; text-decoration-color: #7f7f7f\">│   │   │   │   </span><span style=\"color: #7f7f7f; text-decoration-color: #7f7f7f\"># hyperparameters={\"optimization.max_epochs\": 1, # Stop training once th</span>    <span style=\"color: #800000; text-decoration-color: #800000\">│</span>\n",
       "<span style=\"color: #800000; text-decoration-color: #800000\">│</span>   <span style=\"color: #7f7f7f; text-decoration-color: #7f7f7f\">22 </span><span style=\"color: #7f7f7f; text-decoration-color: #7f7f7f\">│   │   │   │   </span><span style=\"color: #7f7f7f; text-decoration-color: #7f7f7f\">#                  \"optimization.max_steps\": 5, # Stop training after th</span>    <span style=\"color: #800000; text-decoration-color: #800000\">│</span>\n",
       "<span style=\"color: #800000; text-decoration-color: #800000\">│</span>                                                                                                  <span style=\"color: #800000; text-decoration-color: #800000\">│</span>\n",
       "<span style=\"color: #800000; text-decoration-color: #800000\">│</span> <span style=\"color: #808000; text-decoration-color: #808000\">...\Users\\vivek.p\\Anaconda\\envs\\autogluon_RD\\lib\\site-packages\\autogluon\\multimodal\\predictor.py</span>: <span style=\"color: #800000; text-decoration-color: #800000\">│</span>\n",
       "<span style=\"color: #800000; text-decoration-color: #800000\">│</span> <span style=\"color: #0000ff; text-decoration-color: #0000ff\">825</span> in <span style=\"color: #00ff00; text-decoration-color: #00ff00\">fit</span>                                                                                       <span style=\"color: #800000; text-decoration-color: #800000\">│</span>\n",
       "<span style=\"color: #800000; text-decoration-color: #800000\">│</span>                                                                                                  <span style=\"color: #800000; text-decoration-color: #800000\">│</span>\n",
       "<span style=\"color: #800000; text-decoration-color: #800000\">│</span>   <span style=\"color: #7f7f7f; text-decoration-color: #7f7f7f\"> 822 </span><span style=\"color: #7f7f7f; text-decoration-color: #7f7f7f\">│   │   │   </span>)                                                                             <span style=\"color: #800000; text-decoration-color: #800000\">│</span>\n",
       "<span style=\"color: #800000; text-decoration-color: #800000\">│</span>   <span style=\"color: #7f7f7f; text-decoration-color: #7f7f7f\"> 823 </span><span style=\"color: #7f7f7f; text-decoration-color: #7f7f7f\">│   │   │   </span><span style=\"color: #0000ff; text-decoration-color: #0000ff\">return</span> predictor                                                              <span style=\"color: #800000; text-decoration-color: #800000\">│</span>\n",
       "<span style=\"color: #800000; text-decoration-color: #800000\">│</span>   <span style=\"color: #7f7f7f; text-decoration-color: #7f7f7f\"> 824 </span><span style=\"color: #7f7f7f; text-decoration-color: #7f7f7f\">│   │   </span>                                                                                  <span style=\"color: #800000; text-decoration-color: #800000\">│</span>\n",
       "<span style=\"color: #800000; text-decoration-color: #800000\">│</span> <span style=\"color: #800000; text-decoration-color: #800000\">❱ </span> 825 <span style=\"color: #7f7f7f; text-decoration-color: #7f7f7f\">│   │   </span><span style=\"color: #00ffff; text-decoration-color: #00ffff\">self</span>._fit(**_fit_args)                                                            <span style=\"color: #800000; text-decoration-color: #800000\">│</span>\n",
       "<span style=\"color: #800000; text-decoration-color: #800000\">│</span>   <span style=\"color: #7f7f7f; text-decoration-color: #7f7f7f\"> 826 </span><span style=\"color: #7f7f7f; text-decoration-color: #7f7f7f\">│   │   </span>training_end = time.time()                                                        <span style=\"color: #800000; text-decoration-color: #800000\">│</span>\n",
       "<span style=\"color: #800000; text-decoration-color: #800000\">│</span>   <span style=\"color: #7f7f7f; text-decoration-color: #7f7f7f\"> 827 </span><span style=\"color: #7f7f7f; text-decoration-color: #7f7f7f\">│   │   </span><span style=\"color: #00ffff; text-decoration-color: #00ffff\">self</span>._total_train_time = training_end - training_start                            <span style=\"color: #800000; text-decoration-color: #800000\">│</span>\n",
       "<span style=\"color: #800000; text-decoration-color: #800000\">│</span>   <span style=\"color: #7f7f7f; text-decoration-color: #7f7f7f\"> 828 </span>                                                                                          <span style=\"color: #800000; text-decoration-color: #800000\">│</span>\n",
       "<span style=\"color: #800000; text-decoration-color: #800000\">│</span>                                                                                                  <span style=\"color: #800000; text-decoration-color: #800000\">│</span>\n",
       "<span style=\"color: #800000; text-decoration-color: #800000\">│</span> <span style=\"color: #808000; text-decoration-color: #808000\">...\Users\\vivek.p\\Anaconda\\envs\\autogluon_RD\\lib\\site-packages\\autogluon\\multimodal\\predictor.py</span>: <span style=\"color: #800000; text-decoration-color: #800000\">│</span>\n",
       "<span style=\"color: #800000; text-decoration-color: #800000\">│</span> <span style=\"color: #0000ff; text-decoration-color: #0000ff\">1409</span> in <span style=\"color: #00ff00; text-decoration-color: #00ff00\">_fit</span>                                                                                     <span style=\"color: #800000; text-decoration-color: #800000\">│</span>\n",
       "<span style=\"color: #800000; text-decoration-color: #800000\">│</span>                                                                                                  <span style=\"color: #800000; text-decoration-color: #800000\">│</span>\n",
       "<span style=\"color: #800000; text-decoration-color: #800000\">│</span>   <span style=\"color: #7f7f7f; text-decoration-color: #7f7f7f\">1406 </span><span style=\"color: #7f7f7f; text-decoration-color: #7f7f7f\">│   │   │   │   │   </span>standalone=standalone,                                                <span style=\"color: #800000; text-decoration-color: #800000\">│</span>\n",
       "<span style=\"color: #800000; text-decoration-color: #800000\">│</span>   <span style=\"color: #7f7f7f; text-decoration-color: #7f7f7f\">1407 </span><span style=\"color: #7f7f7f; text-decoration-color: #7f7f7f\">│   │   │   │   │   </span>clean_ckpts=clean_ckpts,                                              <span style=\"color: #800000; text-decoration-color: #800000\">│</span>\n",
       "<span style=\"color: #800000; text-decoration-color: #800000\">│</span>   <span style=\"color: #7f7f7f; text-decoration-color: #7f7f7f\">1408 </span><span style=\"color: #7f7f7f; text-decoration-color: #7f7f7f\">│   │   │   │   </span>)                                                                         <span style=\"color: #800000; text-decoration-color: #800000\">│</span>\n",
       "<span style=\"color: #800000; text-decoration-color: #800000\">│</span> <span style=\"color: #800000; text-decoration-color: #800000\">❱ </span>1409 <span style=\"color: #7f7f7f; text-decoration-color: #7f7f7f\">│   │   │   </span><span style=\"color: #00ffff; text-decoration-color: #00ffff\">self</span>._best_score = trainer.callback_metrics[<span style=\"color: #808000; text-decoration-color: #808000\">f\"val_{</span><span style=\"color: #00ffff; text-decoration-color: #00ffff\">self</span>._validation_metric_n  <span style=\"color: #800000; text-decoration-color: #800000\">│</span>\n",
       "<span style=\"color: #800000; text-decoration-color: #800000\">│</span>   <span style=\"color: #7f7f7f; text-decoration-color: #7f7f7f\">1410 </span><span style=\"color: #7f7f7f; text-decoration-color: #7f7f7f\">│   │   </span><span style=\"color: #0000ff; text-decoration-color: #0000ff\">else</span>:                                                                             <span style=\"color: #800000; text-decoration-color: #800000\">│</span>\n",
       "<span style=\"color: #800000; text-decoration-color: #800000\">│</span>   <span style=\"color: #7f7f7f; text-decoration-color: #7f7f7f\">1411 </span><span style=\"color: #7f7f7f; text-decoration-color: #7f7f7f\">│   │   │   </span>sys.exit(<span style=\"color: #808000; text-decoration-color: #808000\">f\"Training finished, exit the process with global_rank={</span>trainer.glo  <span style=\"color: #800000; text-decoration-color: #800000\">│</span>\n",
       "<span style=\"color: #800000; text-decoration-color: #800000\">│</span>   <span style=\"color: #7f7f7f; text-decoration-color: #7f7f7f\">1412 </span>                                                                                          <span style=\"color: #800000; text-decoration-color: #800000\">│</span>\n",
       "<span style=\"color: #800000; text-decoration-color: #800000\">╰──────────────────────────────────────────────────────────────────────────────────────────────────╯</span>\n",
       "<span style=\"color: #ff0000; text-decoration-color: #ff0000; font-weight: bold\">KeyError: </span><span style=\"color: #008000; text-decoration-color: #008000\">'val_acc'</span>\n",
       "</pre>\n"
      ],
      "text/plain": [
       "\u001b[31m╭─\u001b[0m\u001b[31m──────────────────────────────\u001b[0m\u001b[31m \u001b[0m\u001b[1;31mTraceback \u001b[0m\u001b[1;2;31m(most recent call last)\u001b[0m\u001b[31m \u001b[0m\u001b[31m───────────────────────────────\u001b[0m\u001b[31m─╮\u001b[0m\n",
       "\u001b[31m│\u001b[0m in \u001b[92m<module>\u001b[0m:\u001b[94m19\u001b[0m                                                                                   \u001b[31m│\u001b[0m\n",
       "\u001b[31m│\u001b[0m                                                                                                  \u001b[31m│\u001b[0m\n",
       "\u001b[31m│\u001b[0m   \u001b[2m16 \u001b[0m\u001b[2m│   │   │   │   │   │   │   │   \u001b[0mpath=model_path,                                            \u001b[31m│\u001b[0m\n",
       "\u001b[31m│\u001b[0m   \u001b[2m17 \u001b[0m\u001b[2m│   │   │   │   │   │   │   │   \u001b[0m\u001b[2m# verbosity=1,\u001b[0m                                              \u001b[31m│\u001b[0m\n",
       "\u001b[31m│\u001b[0m   \u001b[2m18 \u001b[0m\u001b[2m│   │   │   │   │   │   │   │   \u001b[0m)                                                           \u001b[31m│\u001b[0m\n",
       "\u001b[31m│\u001b[0m \u001b[31m❱ \u001b[0m19 predictor.fit(train_data,                                                                   \u001b[31m│\u001b[0m\n",
       "\u001b[31m│\u001b[0m   \u001b[2m20 \u001b[0m\u001b[2m│   │   │   │   \u001b[0mtime_limit=\u001b[94m180\u001b[0m, \u001b[2m# How long fit() should run for (wall clock time in seco\u001b[0m    \u001b[31m│\u001b[0m\n",
       "\u001b[31m│\u001b[0m   \u001b[2m21 \u001b[0m\u001b[2m│   │   │   │   \u001b[0m\u001b[2m# hyperparameters={\"optimization.max_epochs\": 1, # Stop training once th\u001b[0m    \u001b[31m│\u001b[0m\n",
       "\u001b[31m│\u001b[0m   \u001b[2m22 \u001b[0m\u001b[2m│   │   │   │   \u001b[0m\u001b[2m#                  \"optimization.max_steps\": 5, # Stop training after th\u001b[0m    \u001b[31m│\u001b[0m\n",
       "\u001b[31m│\u001b[0m                                                                                                  \u001b[31m│\u001b[0m\n",
       "\u001b[31m│\u001b[0m \u001b[33m...\Users\\vivek.p\\Anaconda\\envs\\autogluon_RD\\lib\\site-packages\\autogluon\\multimodal\\predictor.py\u001b[0m: \u001b[31m│\u001b[0m\n",
       "\u001b[31m│\u001b[0m \u001b[94m825\u001b[0m in \u001b[92mfit\u001b[0m                                                                                       \u001b[31m│\u001b[0m\n",
       "\u001b[31m│\u001b[0m                                                                                                  \u001b[31m│\u001b[0m\n",
       "\u001b[31m│\u001b[0m   \u001b[2m 822 \u001b[0m\u001b[2m│   │   │   \u001b[0m)                                                                             \u001b[31m│\u001b[0m\n",
       "\u001b[31m│\u001b[0m   \u001b[2m 823 \u001b[0m\u001b[2m│   │   │   \u001b[0m\u001b[94mreturn\u001b[0m predictor                                                              \u001b[31m│\u001b[0m\n",
       "\u001b[31m│\u001b[0m   \u001b[2m 824 \u001b[0m\u001b[2m│   │   \u001b[0m                                                                                  \u001b[31m│\u001b[0m\n",
       "\u001b[31m│\u001b[0m \u001b[31m❱ \u001b[0m 825 \u001b[2m│   │   \u001b[0m\u001b[96mself\u001b[0m._fit(**_fit_args)                                                            \u001b[31m│\u001b[0m\n",
       "\u001b[31m│\u001b[0m   \u001b[2m 826 \u001b[0m\u001b[2m│   │   \u001b[0mtraining_end = time.time()                                                        \u001b[31m│\u001b[0m\n",
       "\u001b[31m│\u001b[0m   \u001b[2m 827 \u001b[0m\u001b[2m│   │   \u001b[0m\u001b[96mself\u001b[0m._total_train_time = training_end - training_start                            \u001b[31m│\u001b[0m\n",
       "\u001b[31m│\u001b[0m   \u001b[2m 828 \u001b[0m                                                                                          \u001b[31m│\u001b[0m\n",
       "\u001b[31m│\u001b[0m                                                                                                  \u001b[31m│\u001b[0m\n",
       "\u001b[31m│\u001b[0m \u001b[33m...\Users\\vivek.p\\Anaconda\\envs\\autogluon_RD\\lib\\site-packages\\autogluon\\multimodal\\predictor.py\u001b[0m: \u001b[31m│\u001b[0m\n",
       "\u001b[31m│\u001b[0m \u001b[94m1409\u001b[0m in \u001b[92m_fit\u001b[0m                                                                                     \u001b[31m│\u001b[0m\n",
       "\u001b[31m│\u001b[0m                                                                                                  \u001b[31m│\u001b[0m\n",
       "\u001b[31m│\u001b[0m   \u001b[2m1406 \u001b[0m\u001b[2m│   │   │   │   │   \u001b[0mstandalone=standalone,                                                \u001b[31m│\u001b[0m\n",
       "\u001b[31m│\u001b[0m   \u001b[2m1407 \u001b[0m\u001b[2m│   │   │   │   │   \u001b[0mclean_ckpts=clean_ckpts,                                              \u001b[31m│\u001b[0m\n",
       "\u001b[31m│\u001b[0m   \u001b[2m1408 \u001b[0m\u001b[2m│   │   │   │   \u001b[0m)                                                                         \u001b[31m│\u001b[0m\n",
       "\u001b[31m│\u001b[0m \u001b[31m❱ \u001b[0m1409 \u001b[2m│   │   │   \u001b[0m\u001b[96mself\u001b[0m._best_score = trainer.callback_metrics[\u001b[33mf\u001b[0m\u001b[33m\"\u001b[0m\u001b[33mval_\u001b[0m\u001b[33m{\u001b[0m\u001b[96mself\u001b[0m._validation_metric_n  \u001b[31m│\u001b[0m\n",
       "\u001b[31m│\u001b[0m   \u001b[2m1410 \u001b[0m\u001b[2m│   │   \u001b[0m\u001b[94melse\u001b[0m:                                                                             \u001b[31m│\u001b[0m\n",
       "\u001b[31m│\u001b[0m   \u001b[2m1411 \u001b[0m\u001b[2m│   │   │   \u001b[0msys.exit(\u001b[33mf\u001b[0m\u001b[33m\"\u001b[0m\u001b[33mTraining finished, exit the process with global_rank=\u001b[0m\u001b[33m{\u001b[0mtrainer.glo  \u001b[31m│\u001b[0m\n",
       "\u001b[31m│\u001b[0m   \u001b[2m1412 \u001b[0m                                                                                          \u001b[31m│\u001b[0m\n",
       "\u001b[31m╰──────────────────────────────────────────────────────────────────────────────────────────────────╯\u001b[0m\n",
       "\u001b[1;91mKeyError: \u001b[0m\u001b[32m'val_acc'\u001b[0m\n"
      ]
     },
     "metadata": {},
     "output_type": "display_data"
    }
   ],
   "source": [
    "from autogluon.multimodal import MultiModalPredictor\n",
    "import datetime\n",
    "start_time = datetime.datetime.now()\n",
    "import uuid\n",
    "\n",
    "\n",
    "## For faster execution, reducing the sample size\n",
    "subsample_size = 10000\n",
    "train_data = train_data.sample(n=subsample_size, random_state=0)\n",
    "# test_data = test_data.sample(n=subsample_size, random_state=0)\n",
    "\n",
    "model_path = f\"/content/drive/MyDrive/autogluon temp models/tmp/{start_time.strftime('%Y%m%d%H%M')}_{uuid.uuid4().hex}\"\n",
    "predictor = MultiModalPredictor(label='sentiment',\n",
    "                                eval_metric='acc', \n",
    "                                # presets='best_quality',\n",
    "                                path=model_path,\n",
    "                                # verbosity=1,\n",
    "                                )\n",
    "predictor.fit(train_data,\n",
    "                time_limit=180, # How long fit() should run for (wall clock time in seconds)\n",
    "                # hyperparameters={\"optimization.max_epochs\": 1, # Stop training once this number of epochs is reached\n",
    "                #                  \"optimization.max_steps\": 5, # Stop training after this number of steps\n",
    "                #                  \"optimization.patience\": 5, # Stop training after this number of checks with no improvement\n",
    "                #                  \"optimization.skip_final_val\": True, # Whether to skip the final validation after training is signaled to stop\n",
    "                #                  }\n",
    "                                                         )"
   ]
  },
  {
   "cell_type": "code",
   "execution_count": 14,
   "metadata": {},
   "outputs": [
    {
     "name": "stdout",
     "output_type": "stream",
     "text": [
      "Predicting DataLoader 0: 100%|██████████| 782/782 [4:59:47<00:00, 23.00s/it]  \n",
      "{'acc': 0.4884, 'f1': 0.6309867282169649}\n"
     ]
    }
   ],
   "source": [
    "#Evaluation\n",
    "test_score = predictor.evaluate(test_data, metrics=['acc', 'f1'],chunk_size = 1024)\n",
    "print(test_score)"
   ]
  },
  {
   "cell_type": "code",
   "execution_count": 16,
   "metadata": {},
   "outputs": [
    {
     "name": "stdout",
     "output_type": "stream",
     "text": [
      "\"Sentence\": it's a charming and often affecting journey. \"Predicted Sentiment\": 1\n",
      "\"Sentence\": It's slow, very, very, very slow. \"Predicted Sentiment\": 0\n",
      "\"Sentence\": it's a charming and often affecting journey. \"Predicted Class-Probabilities\": [0.35976666 0.6402333 ]\n",
      "\"Sentence\": It's slow, very, very, very slow. \"Predicted Class-Probabilities\": [0.6877842  0.31221578]\n"
     ]
    },
    {
     "name": "stderr",
     "output_type": "stream",
     "text": [
      "...\Users\\vivek.p\\Anaconda\\envs\\autogluon_RD\\lib\\site-packages\\autogluon\\multimodal\\utils\\data.py:511: UserWarning: Replacing detected dataframe columns `['sentence']` with columns `['text']` from training data.Double check the correspondences between them to avoid unexpected behaviors.\n",
      "  warnings.warn(\n"
     ]
    }
   ],
   "source": [
    "#Prediction\n",
    "sentence1 = \"it's a charming and often affecting journey.\"\n",
    "sentence2 = \"It's slow, very, very, very slow.\"\n",
    "predictions = predictor.predict({'text': [sentence1, sentence2]})\n",
    "print('\"Sentence\":', sentence1, '\"Predicted Sentiment\":', predictions[0])\n",
    "print('\"Sentence\":', sentence2, '\"Predicted Sentiment\":', predictions[1])\n",
    "\n",
    "#predicting class-probabilities instead of predicted classes\n",
    "probs = predictor.predict_proba({'sentence': [sentence1, sentence2]})\n",
    "print('\"Sentence\":', sentence1, '\"Predicted Class-Probabilities\":', probs[0])\n",
    "print('\"Sentence\":', sentence2, '\"Predicted Class-Probabilities\":', probs[1])"
   ]
  },
  {
   "cell_type": "code",
   "execution_count": null,
   "metadata": {},
   "outputs": [
    {
     "name": "stdout",
     "output_type": "stream",
     "text": [
      "Predicting DataLoader 0: 100%|██████████| 32/32 [11:28<00:00, 21.52s/it]\n"
     ]
    },
    {
     "data": {
      "text/plain": [
       "14149    1\n",
       "8946     1\n",
       "22378    1\n",
       "12162    1\n",
       "4879     0\n",
       "Name: sentiment, dtype: int64"
      ]
     },
     "execution_count": 6,
     "metadata": {},
     "output_type": "execute_result"
    }
   ],
   "source": [
    "test_predictions = predictor.predict(test_data)\n",
    "test_predictions.head()"
   ]
  }
 ],
 "metadata": {
  "kernelspec": {
   "display_name": "autogluon_RD",
   "language": "python",
   "name": "python3"
  },
  "language_info": {
   "codemirror_mode": {
    "name": "ipython",
    "version": 3
   },
   "file_extension": ".py",
   "mimetype": "text/x-python",
   "name": "python",
   "nbconvert_exporter": "python",
   "pygments_lexer": "ipython3",
   "version": "3.9.0"
  },
  "orig_nbformat": 4
 },
 "nbformat": 4,
 "nbformat_minor": 2
}
