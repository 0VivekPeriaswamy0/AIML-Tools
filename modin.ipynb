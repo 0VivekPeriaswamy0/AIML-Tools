{
 "cells": [
  {
   "attachments": {},
   "cell_type": "markdown",
   "metadata": {},
   "source": [
    "#conda install -c intel modin-all"
   ]
  },
  {
   "cell_type": "code",
   "execution_count": 1,
   "metadata": {},
   "outputs": [],
   "source": [
    "# ****** Do not change the code in this cell! It verifies that the notebook is being run correctly! ******\n",
    "\n",
    "def verify_and_print_times(pandas_time, modin_time):\n",
    "    if modin_time < pandas_time:\n",
    "        print(f\"Modin was {pandas_time / modin_time:.2f}X faster than stock pandas!\")\n",
    "        return\n",
    "    print(\n",
    "        f\"Oops, stock pandas appears to be {modin_time / pandas_time:.2f}X faster than Modin in this case. \"\n",
    "        \"This is unlikely but could happen sometimes on certain machines/environments/datasets. \"\n",
    "        \"One of the most probable reasons is the excessive amount of partitions being assigned to a single worker. \"\n",
    "        \"You may visit Modin's optimization guide in order to learn more about such cases and how to fix them: \"\n",
    "        \"\\nhttps://modin.readthedocs.io/en/latest/usage_guide/optimization_notes/index.html\\n\\n\"\n",
    "        \"But first, verify that you're using the latest Modin version, also, try to use different executions, \"\n",
    "        \"for basic usage we recommend non-experimental 'PandasOnRay'.\\n\"\n",
    "        \"Current configuration is:\"\n",
    "    )\n",
    "    try:\n",
    "        from modin.utils import get_current_execution\n",
    "\n",
    "        execution = get_current_execution()\n",
    "    except ImportError:\n",
    "        # for modin version < 0.12.0\n",
    "        try:\n",
    "            from modin.utils import get_current_backend\n",
    "\n",
    "            execution = get_current_backend()\n",
    "        except ImportError:\n",
    "            # for modin versions < 0.8.1\n",
    "            execution = (\n",
    "                \"Can't deduce the current execution, your Modin version is too old!\"\n",
    "            )\n",
    "    print(f\"\\tExecution: {execution}\")\n",
    "    try:\n",
    "        import modin.config as cfg\n",
    "\n",
    "        print(\n",
    "            f\"\\tIs experimental: {cfg.IsExperimental.get()}\\n\"\n",
    "            f\"\\tNumber of CPUs to utilize by Modin (check that Modin uses all CPUs on your machine): {cfg.CpuCount.get()}\\n\"\n",
    "            f\"\\tIs in debug mode (debug mode may perform slower): {cfg.IsDebug.get()}\"\n",
    "        )\n",
    "    except (ImportError, AttributeError):\n",
    "        # for modin versions < 0.8.2\n",
    "        print(\"\\tCan't deduce Modin configuration, your Modin version is too old!\")\n",
    "    import modin\n",
    "\n",
    "    print(f\"\\tModin version: {modin.__version__}\")"
   ]
  },
  {
   "cell_type": "code",
   "execution_count": 2,
   "metadata": {},
   "outputs": [],
   "source": [
    "import pandas\n",
    "import modin.pandas as pd\n",
    "import numpy as np\n",
    "import matplotlib.pyplot as plt\n",
    "import time"
   ]
  },
  {
   "cell_type": "code",
   "execution_count": 4,
   "metadata": {},
   "outputs": [
    {
     "name": "stderr",
     "output_type": "stream",
     "text": [
      "2023-04-14 21:22:42,538\tINFO worker.py:1544 -- Started a local Ray instance. View the dashboard at \u001b[1m\u001b[32mhttp://127.0.0.1:8266 \u001b[39m\u001b[22m\n",
      "2023-04-14 21:22:47,037\tWARNING worker.py:2093 -- `driver_object_store_memory` is deprecated and will be removed in the future.\n"
     ]
    },
    {
     "data": {
      "text/html": [
       "<div>\n",
       "    <div style=\"margin-left: 50px;display: flex;flex-direction: row;align-items: center\">\n",
       "        <h3 style=\"color: var(--jp-ui-font-color0)\">Ray</h3>\n",
       "        <svg version=\"1.1\" id=\"ray\" width=\"3em\" viewBox=\"0 0 144.5 144.6\" style=\"margin-left: 3em;margin-right: 3em\">\n",
       "            <g id=\"layer-1\">\n",
       "                <path fill=\"#00a2e9\" class=\"st0\" d=\"M97.3,77.2c-3.8-1.1-6.2,0.9-8.3,5.1c-3.5,6.8-9.9,9.9-17.4,9.6S58,88.1,54.8,81.2c-1.4-3-3-4-6.3-4.1\n",
       "                    c-5.6-0.1-9.9,0.1-13.1,6.4c-3.8,7.6-13.6,10.2-21.8,7.6C5.2,88.4-0.4,80.5,0,71.7c0.1-8.4,5.7-15.8,13.8-18.2\n",
       "                    c8.4-2.6,17.5,0.7,22.3,8c1.3,1.9,1.3,5.2,3.6,5.6c3.9,0.6,8,0.2,12,0.2c1.8,0,1.9-1.6,2.4-2.8c3.5-7.8,9.7-11.8,18-11.9\n",
       "                    c8.2-0.1,14.4,3.9,17.8,11.4c1.3,2.8,2.9,3.6,5.7,3.3c1-0.1,2,0.1,3,0c2.8-0.5,6.4,1.7,8.1-2.7s-2.3-5.5-4.1-7.5\n",
       "                    c-5.1-5.7-10.9-10.8-16.1-16.3C84,38,81.9,37.1,78,38.3C66.7,42,56.2,35.7,53,24.1C50.3,14,57.3,2.8,67.7,0.5\n",
       "                    C78.4-2,89,4.7,91.5,15.3c0.1,0.3,0.1,0.5,0.2,0.8c0.7,3.4,0.7,6.9-0.8,9.8c-1.7,3.2-0.8,5,1.5,7.2c6.7,6.5,13.3,13,19.8,19.7\n",
       "                    c1.8,1.8,3,2.1,5.5,1.2c9.1-3.4,17.9-0.6,23.4,7c4.8,6.9,4.6,16.1-0.4,22.9c-5.4,7.2-14.2,9.9-23.1,6.5c-2.3-0.9-3.5-0.6-5.1,1.1\n",
       "                    c-6.7,6.9-13.6,13.7-20.5,20.4c-1.8,1.8-2.5,3.2-1.4,5.9c3.5,8.7,0.3,18.6-7.7,23.6c-7.9,5-18.2,3.8-24.8-2.9\n",
       "                    c-6.4-6.4-7.4-16.2-2.5-24.3c4.9-7.8,14.5-11,23.1-7.8c3,1.1,4.7,0.5,6.9-1.7C91.7,98.4,98,92.3,104.2,86c1.6-1.6,4.1-2.7,2.6-6.2\n",
       "                    c-1.4-3.3-3.8-2.5-6.2-2.6C99.8,77.2,98.9,77.2,97.3,77.2z M72.1,29.7c5.5,0.1,9.9-4.3,10-9.8c0-0.1,0-0.2,0-0.3\n",
       "                    C81.8,14,77,9.8,71.5,10.2c-5,0.3-9,4.2-9.3,9.2c-0.2,5.5,4,10.1,9.5,10.3C71.8,29.7,72,29.7,72.1,29.7z M72.3,62.3\n",
       "                    c-5.4-0.1-9.9,4.2-10.1,9.7c0,0.2,0,0.3,0,0.5c0.2,5.4,4.5,9.7,9.9,10c5.1,0.1,9.9-4.7,10.1-9.8c0.2-5.5-4-10-9.5-10.3\n",
       "                    C72.6,62.3,72.4,62.3,72.3,62.3z M115,72.5c0.1,5.4,4.5,9.7,9.8,9.9c5.6-0.2,10-4.8,10-10.4c-0.2-5.4-4.6-9.7-10-9.7\n",
       "                    c-5.3-0.1-9.8,4.2-9.9,9.5C115,72.1,115,72.3,115,72.5z M19.5,62.3c-5.4,0.1-9.8,4.4-10,9.8c-0.1,5.1,5.2,10.4,10.2,10.3\n",
       "                    c5.6-0.2,10-4.9,9.8-10.5c-0.1-5.4-4.5-9.7-9.9-9.6C19.6,62.3,19.5,62.3,19.5,62.3z M71.8,134.6c5.9,0.2,10.3-3.9,10.4-9.6\n",
       "                    c0.5-5.5-3.6-10.4-9.1-10.8c-5.5-0.5-10.4,3.6-10.8,9.1c0,0.5,0,0.9,0,1.4c-0.2,5.3,4,9.8,9.3,10\n",
       "                    C71.6,134.6,71.7,134.6,71.8,134.6z\"/>\n",
       "            </g>\n",
       "        </svg>\n",
       "        <table>\n",
       "            <tr>\n",
       "                <td style=\"text-align: left\"><b>Python version:</b></td>\n",
       "                <td style=\"text-align: left\"><b>3.8.16</b></td>\n",
       "            </tr>\n",
       "            <tr>\n",
       "                <td style=\"text-align: left\"><b>Ray version:</b></td>\n",
       "                <td style=\"text-align: left\"><b> 2.3.0</b></td>\n",
       "            </tr>\n",
       "            <tr>\n",
       "    <td style=\"text-align: left\"><b>Dashboard:</b></td>\n",
       "    <td style=\"text-align: left\"><b><a href=\"http://127.0.0.1:8266\" target=\"_blank\">http://127.0.0.1:8266</a></b></td>\n",
       "</tr>\n",
       "\n",
       "        </table>\n",
       "    </div>\n",
       "</div>\n"
      ],
      "text/plain": [
       "RayContext(dashboard_url='127.0.0.1:8266', python_version='3.8.16', ray_version='2.3.0', ray_commit='{{RAY_COMMIT_SHA}}', address_info={'node_ip_address': '127.0.0.1', 'raylet_ip_address': '127.0.0.1', 'redis_address': None, 'object_store_address': 'tcp://127.0.0.1:65468', 'raylet_socket_name': 'tcp://127.0.0.1:65521', 'webui_url': '127.0.0.1:8266', 'session_dir': 'C:\\\\Users\\\\vivek.p\\\\AppData\\\\Local\\\\Temp\\\\ray\\\\session_2023-04-14_21-22-38_811111_18508', 'metrics_export_port': 65457, 'gcs_address': '127.0.0.1:65470', 'address': '127.0.0.1:65470', 'dashboard_agent_listen_port': 52365, 'node_id': '5633f7e49c991e17f5d913677982817cd47719a6f722f06b0de76d24'})"
      ]
     },
     "execution_count": 4,
     "metadata": {},
     "output_type": "execute_result"
    },
    {
     "name": "stderr",
     "output_type": "stream",
     "text": [
      "\u001b[2m\u001b[33m(raylet)\u001b[0m c:\\Users\\vivek.p\\Anaconda\\envs\\intel_RD\\lib\\site-packages\\ray\\dashboard\\modules\\reporter\\reporter_agent.py:56: UserWarning: `gpustat` package is not installed. GPU monitoring is not available. To have full functionality of the dashboard please install `pip install ray[default]`.)\n",
      "\u001b[2m\u001b[33m(raylet)\u001b[0m   warnings.warn(\n"
     ]
    }
   ],
   "source": [
    "import ray\n",
    "ray.shutdown()\n",
    "ray.init(_memory=16000 * 1024 * 1024, object_store_memory=500 * 1024 * 1024,_driver_object_store_memory=500 * 1024 * 1024)"
   ]
  },
  {
   "cell_type": "code",
   "execution_count": 8,
   "metadata": {},
   "outputs": [],
   "source": [
    "array=np.random.randint(low=100,high=10000,size=(2**18,2**8))\n",
    "#array\n",
    "np.savetxt(\"foo.csv\", array, delimiter=\",\") #how to generate array"
   ]
  },
  {
   "cell_type": "code",
   "execution_count": 5,
   "metadata": {},
   "outputs": [
    {
     "name": "stdout",
     "output_type": "stream",
     "text": [
      "CPU times: total: 7.7 s\n",
      "Wall time: 7.74 s\n"
     ]
    },
    {
     "data": {
      "text/html": [
       "<div>\n",
       "<style scoped>\n",
       "    .dataframe tbody tr th:only-of-type {\n",
       "        vertical-align: middle;\n",
       "    }\n",
       "\n",
       "    .dataframe tbody tr th {\n",
       "        vertical-align: top;\n",
       "    }\n",
       "\n",
       "    .dataframe thead th {\n",
       "        text-align: right;\n",
       "    }\n",
       "</style>\n",
       "<table border=\"1\" class=\"dataframe\">\n",
       "  <thead>\n",
       "    <tr style=\"text-align: right;\">\n",
       "      <th></th>\n",
       "      <th>col0</th>\n",
       "      <th>col1</th>\n",
       "      <th>col2</th>\n",
       "      <th>col3</th>\n",
       "      <th>col4</th>\n",
       "      <th>col5</th>\n",
       "      <th>col6</th>\n",
       "      <th>col7</th>\n",
       "      <th>col8</th>\n",
       "      <th>col9</th>\n",
       "      <th>...</th>\n",
       "      <th>col246</th>\n",
       "      <th>col247</th>\n",
       "      <th>col248</th>\n",
       "      <th>col249</th>\n",
       "      <th>col250</th>\n",
       "      <th>col251</th>\n",
       "      <th>col252</th>\n",
       "      <th>col253</th>\n",
       "      <th>col254</th>\n",
       "      <th>col255</th>\n",
       "    </tr>\n",
       "  </thead>\n",
       "  <tbody>\n",
       "    <tr>\n",
       "      <th>0</th>\n",
       "      <td>6081.0</td>\n",
       "      <td>4911.0</td>\n",
       "      <td>3939.0</td>\n",
       "      <td>1567.0</td>\n",
       "      <td>5386.0</td>\n",
       "      <td>9145.0</td>\n",
       "      <td>4076.0</td>\n",
       "      <td>440.0</td>\n",
       "      <td>5596.0</td>\n",
       "      <td>4700.0</td>\n",
       "      <td>...</td>\n",
       "      <td>4909.0</td>\n",
       "      <td>7371.0</td>\n",
       "      <td>6687.0</td>\n",
       "      <td>2132.0</td>\n",
       "      <td>5409.0</td>\n",
       "      <td>4678.0</td>\n",
       "      <td>8848.0</td>\n",
       "      <td>7402.0</td>\n",
       "      <td>6513.0</td>\n",
       "      <td>2894.0</td>\n",
       "    </tr>\n",
       "    <tr>\n",
       "      <th>1</th>\n",
       "      <td>3413.0</td>\n",
       "      <td>7424.0</td>\n",
       "      <td>5763.0</td>\n",
       "      <td>4953.0</td>\n",
       "      <td>3339.0</td>\n",
       "      <td>6825.0</td>\n",
       "      <td>5845.0</td>\n",
       "      <td>1773.0</td>\n",
       "      <td>7172.0</td>\n",
       "      <td>9301.0</td>\n",
       "      <td>...</td>\n",
       "      <td>8942.0</td>\n",
       "      <td>3068.0</td>\n",
       "      <td>1475.0</td>\n",
       "      <td>888.0</td>\n",
       "      <td>1121.0</td>\n",
       "      <td>3912.0</td>\n",
       "      <td>3994.0</td>\n",
       "      <td>1071.0</td>\n",
       "      <td>683.0</td>\n",
       "      <td>4338.0</td>\n",
       "    </tr>\n",
       "    <tr>\n",
       "      <th>2</th>\n",
       "      <td>4261.0</td>\n",
       "      <td>2937.0</td>\n",
       "      <td>1610.0</td>\n",
       "      <td>345.0</td>\n",
       "      <td>6188.0</td>\n",
       "      <td>9929.0</td>\n",
       "      <td>5269.0</td>\n",
       "      <td>1143.0</td>\n",
       "      <td>5823.0</td>\n",
       "      <td>7549.0</td>\n",
       "      <td>...</td>\n",
       "      <td>6214.0</td>\n",
       "      <td>5353.0</td>\n",
       "      <td>5323.0</td>\n",
       "      <td>7537.0</td>\n",
       "      <td>2401.0</td>\n",
       "      <td>9233.0</td>\n",
       "      <td>4903.0</td>\n",
       "      <td>5197.0</td>\n",
       "      <td>1074.0</td>\n",
       "      <td>8886.0</td>\n",
       "    </tr>\n",
       "    <tr>\n",
       "      <th>3</th>\n",
       "      <td>753.0</td>\n",
       "      <td>4669.0</td>\n",
       "      <td>3725.0</td>\n",
       "      <td>2213.0</td>\n",
       "      <td>3404.0</td>\n",
       "      <td>834.0</td>\n",
       "      <td>3943.0</td>\n",
       "      <td>6184.0</td>\n",
       "      <td>9469.0</td>\n",
       "      <td>3527.0</td>\n",
       "      <td>...</td>\n",
       "      <td>1705.0</td>\n",
       "      <td>2304.0</td>\n",
       "      <td>2189.0</td>\n",
       "      <td>2863.0</td>\n",
       "      <td>2403.0</td>\n",
       "      <td>3890.0</td>\n",
       "      <td>1249.0</td>\n",
       "      <td>6983.0</td>\n",
       "      <td>5398.0</td>\n",
       "      <td>5318.0</td>\n",
       "    </tr>\n",
       "    <tr>\n",
       "      <th>4</th>\n",
       "      <td>5435.0</td>\n",
       "      <td>2539.0</td>\n",
       "      <td>8537.0</td>\n",
       "      <td>5784.0</td>\n",
       "      <td>343.0</td>\n",
       "      <td>9486.0</td>\n",
       "      <td>5800.0</td>\n",
       "      <td>9768.0</td>\n",
       "      <td>1074.0</td>\n",
       "      <td>4297.0</td>\n",
       "      <td>...</td>\n",
       "      <td>1049.0</td>\n",
       "      <td>6678.0</td>\n",
       "      <td>3538.0</td>\n",
       "      <td>6446.0</td>\n",
       "      <td>5246.0</td>\n",
       "      <td>488.0</td>\n",
       "      <td>9350.0</td>\n",
       "      <td>8270.0</td>\n",
       "      <td>1772.0</td>\n",
       "      <td>8731.0</td>\n",
       "    </tr>\n",
       "  </tbody>\n",
       "</table>\n",
       "<p>5 rows × 256 columns</p>\n",
       "</div>"
      ],
      "text/plain": [
       "     col0    col1    col2    col3    col4    col5    col6    col7    col8  \\\n",
       "0  6081.0  4911.0  3939.0  1567.0  5386.0  9145.0  4076.0   440.0  5596.0   \n",
       "1  3413.0  7424.0  5763.0  4953.0  3339.0  6825.0  5845.0  1773.0  7172.0   \n",
       "2  4261.0  2937.0  1610.0   345.0  6188.0  9929.0  5269.0  1143.0  5823.0   \n",
       "3   753.0  4669.0  3725.0  2213.0  3404.0   834.0  3943.0  6184.0  9469.0   \n",
       "4  5435.0  2539.0  8537.0  5784.0   343.0  9486.0  5800.0  9768.0  1074.0   \n",
       "\n",
       "     col9  ...  col246  col247  col248  col249  col250  col251  col252  \\\n",
       "0  4700.0  ...  4909.0  7371.0  6687.0  2132.0  5409.0  4678.0  8848.0   \n",
       "1  9301.0  ...  8942.0  3068.0  1475.0   888.0  1121.0  3912.0  3994.0   \n",
       "2  7549.0  ...  6214.0  5353.0  5323.0  7537.0  2401.0  9233.0  4903.0   \n",
       "3  3527.0  ...  1705.0  2304.0  2189.0  2863.0  2403.0  3890.0  1249.0   \n",
       "4  4297.0  ...  1049.0  6678.0  3538.0  6446.0  5246.0   488.0  9350.0   \n",
       "\n",
       "   col253  col254  col255  \n",
       "0  7402.0  6513.0  2894.0  \n",
       "1  1071.0   683.0  4338.0  \n",
       "2  5197.0  1074.0  8886.0  \n",
       "3  6983.0  5398.0  5318.0  \n",
       "4  8270.0  1772.0  8731.0  \n",
       "\n",
       "[5 rows x 256 columns]"
      ]
     },
     "execution_count": 5,
     "metadata": {},
     "output_type": "execute_result"
    }
   ],
   "source": [
    "%%time\n",
    "pandas_df = pandas.read_csv(\"foo.csv\", names=[\"col{}\".format(i) for i in range(256)])\n",
    "pandas_df.head()"
   ]
  },
  {
   "cell_type": "code",
   "execution_count": 6,
   "metadata": {},
   "outputs": [
    {
     "name": "stderr",
     "output_type": "stream",
     "text": [
      "UserWarning: When using a pre-initialized Ray cluster, please ensure that the runtime env sets environment variable __MODIN_AUTOIMPORT_PANDAS__ to 1\n"
     ]
    },
    {
     "name": "stdout",
     "output_type": "stream",
     "text": [
      "CPU times: total: 1.56 s\n",
      "Wall time: 9.16 s\n"
     ]
    },
    {
     "data": {
      "text/plain": [
       "(     col0    col1    col2    col3    col4    col5    col6    col7    col8  \\\n",
       " 0  6081.0  4911.0  3939.0  1567.0  5386.0  9145.0  4076.0   440.0  5596.0   \n",
       " 1  3413.0  7424.0  5763.0  4953.0  3339.0  6825.0  5845.0  1773.0  7172.0   \n",
       " 2  4261.0  2937.0  1610.0   345.0  6188.0  9929.0  5269.0  1143.0  5823.0   \n",
       " 3   753.0  4669.0  3725.0  2213.0  3404.0   834.0  3943.0  6184.0  9469.0   \n",
       " 4  5435.0  2539.0  8537.0  5784.0   343.0  9486.0  5800.0  9768.0  1074.0   \n",
       " \n",
       "      col9  ...  col246  col247  col248  col249  col250  col251  col252  \\\n",
       " 0  4700.0  ...  4909.0  7371.0  6687.0  2132.0  5409.0  4678.0  8848.0   \n",
       " 1  9301.0  ...  8942.0  3068.0  1475.0   888.0  1121.0  3912.0  3994.0   \n",
       " 2  7549.0  ...  6214.0  5353.0  5323.0  7537.0  2401.0  9233.0  4903.0   \n",
       " 3  3527.0  ...  1705.0  2304.0  2189.0  2863.0  2403.0  3890.0  1249.0   \n",
       " 4  4297.0  ...  1049.0  6678.0  3538.0  6446.0  5246.0   488.0  9350.0   \n",
       " \n",
       "    col253  col254  col255  \n",
       " 0  7402.0  6513.0  2894.0  \n",
       " 1  1071.0   683.0  4338.0  \n",
       " 2  5197.0  1074.0  8886.0  \n",
       " 3  6983.0  5398.0  5318.0  \n",
       " 4  8270.0  1772.0  8731.0  \n",
       " \n",
       " [5 rows x 256 columns],\n",
       " (262144, 256))"
      ]
     },
     "execution_count": 6,
     "metadata": {},
     "output_type": "execute_result"
    }
   ],
   "source": [
    "%%time\n",
    "modin_df=pd.read_csv(\"foo.csv\", names=[\"col{}\".format(i) for i in range(256)])\n",
    "modin_df.head(),modin_df.shape"
   ]
  },
  {
   "cell_type": "code",
   "execution_count": 7,
   "metadata": {},
   "outputs": [],
   "source": [
    "def plotter(outputdict):\n",
    "    fig = plt.figure(figsize = (10, 5)) \n",
    "    plt.bar(outputdict.keys(),outputdict.values(),color='blue',width=0.4)\n",
    "    plt.xlabel(\"Python Package\")\n",
    "    plt.ylabel(\"Runtime(seconds)\")\n",
    "    plt.show()"
   ]
  },
  {
   "cell_type": "code",
   "execution_count": 8,
   "metadata": {},
   "outputs": [
    {
     "name": "stdout",
     "output_type": "stream",
     "text": [
      "Pandas Time(seconds): 8.629676818847656 \n",
      "Modin Time(seconds): 3.1394879817962646\n",
      "Modin was 2.75X faster than stock pandas!\n"
     ]
    },
    {
     "data": {
      "image/png": "[encoded data removed]",
      "text/plain": [
       "<Figure size 1000x500 with 1 Axes>"
      ]
     },
     "metadata": {},
     "output_type": "display_data"
    }
   ],
   "source": [
    "t0 = time.time()\n",
    "pandas_df = pandas.read_csv(\"foo.csv\", names=[\"col{}\".format(i) for i in range(256)])\n",
    "pandas_time = time.time()- t0\n",
    "\n",
    "t1 = time.time()\n",
    "modin_df = pd.read_csv(\"foo.csv\", names=[\"col{}\".format(i) for i in range(256)])\n",
    "modin_time = time.time() - t1\n",
    "\n",
    "print(\"Pandas Time(seconds):\",pandas_time,\"\\nModin Time(seconds):\",modin_time)\n",
    "verify_and_print_times(pandas_time, modin_time)\n",
    "outputDict={\"Pandas\":pandas_time,\"Modin\":modin_time}\n",
    "plotter(outputDict)"
   ]
  },
  {
   "cell_type": "code",
   "execution_count": 11,
   "metadata": {},
   "outputs": [
    {
     "name": "stdout",
     "output_type": "stream",
     "text": [
      "          col0    col1    col2    col3    col4    col5    col6    col7  \\\n",
      "0       6082.0  4912.0  3940.0  1568.0  5387.0  9146.0  4077.0   441.0   \n",
      "1       3414.0  7425.0  5764.0  4954.0  3340.0  6826.0  5846.0  1774.0   \n",
      "2       4262.0  2938.0  1611.0   346.0  6189.0  9930.0  5270.0  1144.0   \n",
      "3        754.0  4670.0  3726.0  2214.0  3405.0   835.0  3944.0  6185.0   \n",
      "4       5436.0  2540.0  8538.0  5785.0   344.0  9487.0  5801.0  9769.0   \n",
      "...        ...     ...     ...     ...     ...     ...     ...     ...   \n",
      "262139  2203.0  7402.0  3179.0  8679.0  8668.0  2678.0  4937.0  9045.0   \n",
      "262140  9213.0  9434.0  8344.0  2896.0  4281.0  3337.0  3175.0  5656.0   \n",
      "262141  5715.0  3010.0  9172.0  6372.0  4384.0  7378.0  2032.0  6518.0   \n",
      "262142  1878.0  8875.0  5882.0  7014.0  4596.0  1400.0  3815.0  6714.0   \n",
      "262143  4492.0  2197.0  2340.0   394.0  2728.0  2849.0  7809.0  4638.0   \n",
      "\n",
      "          col8    col9  ...  col246  col247  col248  col249  col250  col251  \\\n",
      "0       5597.0  4701.0  ...  4910.0  7372.0  6688.0  2133.0  5410.0  4679.0   \n",
      "1       7173.0  9302.0  ...  8943.0  3069.0  1476.0   889.0  1122.0  3913.0   \n",
      "2       5824.0  7550.0  ...  6215.0  5354.0  5324.0  7538.0  2402.0  9234.0   \n",
      "3       9470.0  3528.0  ...  1706.0  2305.0  2190.0  2864.0  2404.0  3891.0   \n",
      "4       1075.0  4298.0  ...  1050.0  6679.0  3539.0  6447.0  5247.0   489.0   \n",
      "...        ...     ...  ...     ...     ...     ...     ...     ...     ...   \n",
      "262139   819.0   826.0  ...  3979.0  3704.0  6287.0  9694.0  3087.0   517.0   \n",
      "262140  2189.0  4283.0  ...  2247.0  4468.0  7723.0  9617.0  8758.0  5861.0   \n",
      "262141  7108.0  9044.0  ...  7602.0  5555.0  2296.0  2512.0  4413.0  7718.0   \n",
      "262142  1593.0  5334.0  ...  3687.0   111.0  8245.0  8809.0  4722.0  9084.0   \n",
      "262143  3330.0  2942.0  ...  9411.0  5773.0  9308.0  5169.0  4018.0  7074.0   \n",
      "\n",
      "        col252  col253  col254  col255  \n",
      "0       8849.0  7403.0  6514.0  2895.0  \n",
      "1       3995.0  1072.0   684.0  4339.0  \n",
      "2       4904.0  5198.0  1075.0  8887.0  \n",
      "3       1250.0  6984.0  5399.0  5319.0  \n",
      "4       9351.0  8271.0  1773.0  8732.0  \n",
      "...        ...     ...     ...     ...  \n",
      "262139  2692.0  4251.0  7170.0  6465.0  \n",
      "262140  9043.0  1556.0  6119.0   201.0  \n",
      "262141  2776.0  3949.0  5413.0  2926.0  \n",
      "262142  5476.0  4856.0  1298.0  3726.0  \n",
      "262143  1176.0   199.0  8849.0  6917.0  \n",
      "\n",
      "[262144 rows x 256 columns]\n",
      " stock Pandas wall time for completion in seconds: 10.147377490997314\n"
     ]
    }
   ],
   "source": [
    "#DataFrame Function Performance\n",
    "# Long apply function\n",
    "t6 = time.time()\n",
    "print(pandas_df.applymap(lambda x: x + 1))\n",
    "pandas_time = time.time() - t6\n",
    "print(\" stock Pandas wall time for completion in seconds:\",pandas_time)"
   ]
  },
  {
   "cell_type": "code",
   "execution_count": 12,
   "metadata": {},
   "outputs": [
    {
     "name": "stdout",
     "output_type": "stream",
     "text": [
      "          col0    col1    col2    col3    col4    col5    col6    col7  \\\n",
      "0       6082.0  4912.0  3940.0  1568.0  5387.0  9146.0  4077.0   441.0   \n",
      "1       3414.0  7425.0  5764.0  4954.0  3340.0  6826.0  5846.0  1774.0   \n",
      "2       4262.0  2938.0  1611.0   346.0  6189.0  9930.0  5270.0  1144.0   \n",
      "3        754.0  4670.0  3726.0  2214.0  3405.0   835.0  3944.0  6185.0   \n",
      "4       5436.0  2540.0  8538.0  5785.0   344.0  9487.0  5801.0  9769.0   \n",
      "...        ...     ...     ...     ...     ...     ...     ...     ...   \n",
      "262139  2203.0  7402.0  3179.0  8679.0  8668.0  2678.0  4937.0  9045.0   \n",
      "262140  9213.0  9434.0  8344.0  2896.0  4281.0  3337.0  3175.0  5656.0   \n",
      "262141  5715.0  3010.0  9172.0  6372.0  4384.0  7378.0  2032.0  6518.0   \n",
      "262142  1878.0  8875.0  5882.0  7014.0  4596.0  1400.0  3815.0  6714.0   \n",
      "262143  4492.0  2197.0  2340.0   394.0  2728.0  2849.0  7809.0  4638.0   \n",
      "\n",
      "          col8    col9  ...  col246  col247  col248  col249  col250  col251  \\\n",
      "0       5597.0  4701.0  ...  4910.0  7372.0  6688.0  2133.0  5410.0  4679.0   \n",
      "1       7173.0  9302.0  ...  8943.0  3069.0  1476.0   889.0  1122.0  3913.0   \n",
      "2       5824.0  7550.0  ...  6215.0  5354.0  5324.0  7538.0  2402.0  9234.0   \n",
      "3       9470.0  3528.0  ...  1706.0  2305.0  2190.0  2864.0  2404.0  3891.0   \n",
      "4       1075.0  4298.0  ...  1050.0  6679.0  3539.0  6447.0  5247.0   489.0   \n",
      "...        ...     ...  ...     ...     ...     ...     ...     ...     ...   \n",
      "262139   819.0   826.0  ...  3979.0  3704.0  6287.0  9694.0  3087.0   517.0   \n",
      "262140  2189.0  4283.0  ...  2247.0  4468.0  7723.0  9617.0  8758.0  5861.0   \n",
      "262141  7108.0  9044.0  ...  7602.0  5555.0  2296.0  2512.0  4413.0  7718.0   \n",
      "262142  1593.0  5334.0  ...  3687.0   111.0  8245.0  8809.0  4722.0  9084.0   \n",
      "262143  3330.0  2942.0  ...  9411.0  5773.0  9308.0  5169.0  4018.0  7074.0   \n",
      "\n",
      "        col252  col253  col254  col255  \n",
      "0       8849.0  7403.0  6514.0  2895.0  \n",
      "1       3995.0  1072.0   684.0  4339.0  \n",
      "2       4904.0  5198.0  1075.0  8887.0  \n",
      "3       1250.0  6984.0  5399.0  5319.0  \n",
      "4       9351.0  8271.0  1773.0  8732.0  \n",
      "...        ...     ...     ...     ...  \n",
      "262139  2692.0  4251.0  7170.0  6465.0  \n",
      "262140  9043.0  1556.0  6119.0   201.0  \n",
      "262141  2776.0  3949.0  5413.0  2926.0  \n",
      "262142  5476.0  4856.0  1298.0  3726.0  \n",
      "262143  1176.0   199.0  8849.0  6917.0  \n",
      "\n",
      "[262144 rows x 256 columns]\n",
      "Modin wall time for completion in seconds: 1.941946029663086\n",
      "Modin was 5.23X faster than stock pandas!\n"
     ]
    },
    {
     "data": {
      "image/png": "[encoded data removed]",
      "text/plain": [
       "<Figure size 1000x500 with 1 Axes>"
      ]
     },
     "metadata": {},
     "output_type": "display_data"
    },
    {
     "name": "stderr",
     "output_type": "stream",
     "text": [
      "\u001b[2m\u001b[36m(_apply_func pid=720)\u001b[0m 2023-04-14 21:32:38,993\tERROR import_thread.py:83 -- ImportThread: <_MultiThreadedRendezvous of RPC that terminated with:\n",
      "\u001b[2m\u001b[36m(_apply_func pid=720)\u001b[0m \tstatus = StatusCode.UNKNOWN\n",
      "\u001b[2m\u001b[36m(_apply_func pid=720)\u001b[0m \tdetails = \"Stream removed\"\n",
      "\u001b[2m\u001b[36m(_apply_func pid=720)\u001b[0m \tdebug_error_string = \"{\"created\":\"@1681488159.000000000\",\"description\":\"Error received from peer ipv4:127.0.0.1:65470\",\"file\":\"src/core/lib/surface/call.cc\",\"file_line\":1064,\"grpc_message\":\"Stream removed\",\"grpc_status\":2}\"\n",
      "\u001b[2m\u001b[36m(_apply_func pid=720)\u001b[0m >\n",
      "\u001b[2m\u001b[36m(_apply_func pid=9524)\u001b[0m 2023-04-14 21:32:38,993\tERROR import_thread.py:83 -- ImportThread: <_MultiThreadedRendezvous of RPC that terminated with:\n",
      "\u001b[2m\u001b[36m(_apply_func pid=9524)\u001b[0m \tstatus = StatusCode.UNKNOWN\n",
      "\u001b[2m\u001b[36m(_apply_func pid=9524)\u001b[0m \tdetails = \"Stream removed\"\n",
      "\u001b[2m\u001b[36m(_apply_func pid=9524)\u001b[0m \tdebug_error_string = \"{\"created\":\"@1681488159.000000000\",\"description\":\"Error received from peer ipv4:127.0.0.1:65470\",\"file\":\"src/core/lib/surface/call.cc\",\"file_line\":1064,\"grpc_message\":\"Stream removed\",\"grpc_status\":2}\"\n",
      "\u001b[2m\u001b[36m(_apply_func pid=9524)\u001b[0m >\n",
      "\u001b[2m\u001b[36m(_apply_func pid=30964)\u001b[0m 2023-04-14 21:32:38,993\tERROR import_thread.py:83 -- ImportThread: <_MultiThreadedRendezvous of RPC that terminated with:\n",
      "\u001b[2m\u001b[36m(_apply_func pid=30964)\u001b[0m \tstatus = StatusCode.UNKNOWN\n",
      "\u001b[2m\u001b[36m(_apply_func pid=30964)\u001b[0m \tdetails = \"Stream removed\"\n",
      "\u001b[2m\u001b[36m(_apply_func pid=30964)\u001b[0m \tdebug_error_string = \"{\"created\":\"@1681488159.000000000\",\"description\":\"Error received from peer ipv4:127.0.0.1:65470\",\"file\":\"src/core/lib/surface/call.cc\",\"file_line\":1064,\"grpc_message\":\"Stream removed\",\"grpc_status\":2}\"\n",
      "\u001b[2m\u001b[36m(_apply_func pid=30964)\u001b[0m >\n",
      "\u001b[2m\u001b[36m(_apply_func pid=29452)\u001b[0m 2023-04-14 21:32:38,993\tERROR import_thread.py:83 -- ImportThread: <_MultiThreadedRendezvous of RPC that terminated with:\n",
      "\u001b[2m\u001b[36m(_apply_func pid=29452)\u001b[0m \tstatus = StatusCode.UNKNOWN\n",
      "\u001b[2m\u001b[36m(_apply_func pid=29452)\u001b[0m \tdetails = \"Stream removed\"\n",
      "\u001b[2m\u001b[36m(_apply_func pid=29452)\u001b[0m \tdebug_error_string = \"{\"created\":\"@1681488159.000000000\",\"description\":\"Error received from peer ipv4:127.0.0.1:65470\",\"file\":\"src/core/lib/surface/call.cc\",\"file_line\":1064,\"grpc_message\":\"Stream removed\",\"grpc_status\":2}\"\n",
      "\u001b[2m\u001b[36m(_apply_func pid=29452)\u001b[0m >\n",
      "\u001b[2m\u001b[36m(_apply_func pid=23400)\u001b[0m 2023-04-14 21:32:38,993\tERROR import_thread.py:83 -- ImportThread: <_MultiThreadedRendezvous of RPC that terminated with:\n",
      "\u001b[2m\u001b[36m(_apply_func pid=23400)\u001b[0m \tstatus = StatusCode.UNKNOWN\n",
      "\u001b[2m\u001b[36m(_apply_func pid=23400)\u001b[0m \tdetails = \"Stream removed\"\n",
      "\u001b[2m\u001b[36m(_apply_func pid=23400)\u001b[0m \tdebug_error_string = \"{\"created\":\"@1681488159.000000000\",\"description\":\"Error received from peer ipv4:127.0.0.1:65470\",\"file\":\"src/core/lib/surface/call.cc\",\"file_line\":1064,\"grpc_message\":\"Stream removed\",\"grpc_status\":2}\"\n",
      "\u001b[2m\u001b[36m(_apply_func pid=23400)\u001b[0m >\n",
      "\u001b[2m\u001b[36m(_apply_func pid=28552)\u001b[0m 2023-04-14 21:37:39,007\tERROR import_thread.py:83 -- ImportThread: <_MultiThreadedRendezvous of RPC that terminated with:\n",
      "\u001b[2m\u001b[36m(_apply_func pid=28552)\u001b[0m \tstatus = StatusCode.UNKNOWN\n",
      "\u001b[2m\u001b[36m(_apply_func pid=28552)\u001b[0m \tdetails = \"Stream removed\"\n",
      "\u001b[2m\u001b[36m(_apply_func pid=28552)\u001b[0m \tdebug_error_string = \"{\"created\":\"@1681488459.015000000\",\"description\":\"Error received from peer ipv4:127.0.0.1:65470\",\"file\":\"src/core/lib/surface/call.cc\",\"file_line\":1064,\"grpc_message\":\"Stream removed\",\"grpc_status\":2}\"\n",
      "\u001b[2m\u001b[36m(_apply_func pid=28552)\u001b[0m >\n"
     ]
    }
   ],
   "source": [
    "# Long apply function\n",
    "t7 = time.time()\n",
    "print(modin_df.applymap(lambda x: x + 1))\n",
    "modin_time = time.time() - t7\n",
    "print(\"Modin wall time for completion in seconds:\",modin_time)\n",
    "verify_and_print_times(pandas_time, modin_time)\n",
    "outputDict={\"Pandas\":pandas_time,\"Modin\":modin_time}\n",
    "plotter(outputDict)"
   ]
  }
 ],
 "metadata": {
  "kernelspec": {
   "display_name": "intel_RD",
   "language": "python",
   "name": "python3"
  },
  "language_info": {
   "codemirror_mode": {
    "name": "ipython",
    "version": 3
   },
   "file_extension": ".py",
   "mimetype": "text/x-python",
   "name": "python",
   "nbconvert_exporter": "python",
   "pygments_lexer": "ipython3",
   "version": "3.8.16"
  },
  "orig_nbformat": 4
 },
 "nbformat": 4,
 "nbformat_minor": 2
}
