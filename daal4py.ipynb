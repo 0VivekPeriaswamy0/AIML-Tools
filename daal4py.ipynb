{
 "cells": [
  {
   "cell_type": "code",
   "execution_count": 1,
   "metadata": {},
   "outputs": [],
   "source": [
    "##### Linear regression example for shared memory systems #####\n",
    "import daal4py as d4p\n",
    "from sklearn.datasets import fetch_california_housing\n",
    "from sklearn.model_selection import train_test_split\n",
    "import pandas as pd\n",
    "import numpy as np\n",
    "import joblib"
   ]
  },
  {
   "cell_type": "code",
   "execution_count": null,
   "metadata": {},
   "outputs": [],
   "source": [
    "# loading in the data\n",
    "data = fetch_california_housing()\n",
    "\n",
    "# organizing variables used in the model for prediction\n",
    "X = data.data # house characteristics\n",
    "y = data.target[np.newaxis].T # house price\n",
    "\n",
    "# splitting the data for training and testing, with a 25% test dataset size\n",
    "X_train, X_test, y_train, y_test = train_test_split(X, y, test_size = 0.25, random_state =1693)"
   ]
  },
  {
   "cell_type": "code",
   "execution_count": null,
   "metadata": {},
   "outputs": [],
   "source": [
    "# training the model for prediction\n",
    "train_result = linear_regression_training().compute(X_train, y_train)"
   ]
  },
  {
   "cell_type": "code",
   "execution_count": 3,
   "metadata": {},
   "outputs": [],
   "source": [
    "# training the model for prediction\n",
    "train_result = d4p.linear_regression_training().compute(X_train, y_train)"
   ]
  },
  {
   "cell_type": "code",
   "execution_count": 5,
   "metadata": {},
   "outputs": [
    {
     "name": "stdout",
     "output_type": "stream",
     "text": [
      "Here's our model:\n",
      "\n",
      "\n",
      " NumberOfBetas: 9\n",
      "\n",
      "NumberOfResponses: 1\n",
      "\n",
      "InterceptFlag: False\n",
      "\n",
      "Beta: array(\n",
      "  [[ 0.00000000e+00  5.24162377e-01  1.52997386e-02 -1.99837494e-01\n",
      "     8.92721907e-01  8.87013279e-06 -5.24786354e-03 -5.88537805e-02\n",
      "    -1.51243558e-02]],\n",
      "  dtype=float64, shape=(1, 9))\n",
      "\n",
      "NumberOfFeatures: 8 \n",
      "\n"
     ]
    },
    {
     "data": {
      "text/plain": [
       "['./linear_regression_batch.pkl']"
      ]
     },
     "execution_count": 5,
     "metadata": {},
     "output_type": "execute_result"
    }
   ],
   "source": [
    "# retrieving and printing training model\n",
    "model = train_result.model\n",
    "print(\"Here's our model:\\n\\n\\n\", model , \"\\n\")\n",
    "\n",
    "model_filename = './linear_regression_batch.pkl'\n",
    "\n",
    "# saving model to a file\n",
    "joblib.dump(model, model_filename) # nosec"
   ]
  },
  {
   "cell_type": "code",
   "execution_count": 6,
   "metadata": {},
   "outputs": [
    {
     "name": "stdout",
     "output_type": "stream",
     "text": [
      "Here is one of our loaded model's features: \n",
      "\n",
      " [[ 0.00000000e+00  5.24162377e-01  1.52997386e-02 -1.99837494e-01\n",
      "   8.92721907e-01  8.87013279e-06 -5.24786354e-03 -5.88537805e-02\n",
      "  -1.51243558e-02]]\n"
     ]
    }
   ],
   "source": [
    "# loading the training model from a file\n",
    "loaded_model = joblib.load(open(model_filename, \"rb\")) # nosec\n",
    "print(\"Here is one of our loaded model's features: \\n\\n\", loaded_model.Beta)"
   ]
  },
  {
   "cell_type": "code",
   "execution_count": 7,
   "metadata": {},
   "outputs": [],
   "source": [
    "# now predicting the target feature(s) using the trained model\n",
    "y_pred = d4p.linear_regression_prediction().compute(X_test, loaded_model).prediction "
   ]
  }
 ],
 "metadata": {
  "kernelspec": {
   "display_name": "intel_RD",
   "language": "python",
   "name": "python3"
  },
  "language_info": {
   "codemirror_mode": {
    "name": "ipython",
    "version": 3
   },
   "file_extension": ".py",
   "mimetype": "text/x-python",
   "name": "python",
   "nbconvert_exporter": "python",
   "pygments_lexer": "ipython3",
   "version": "3.8.16"
  },
  "orig_nbformat": 4
 },
 "nbformat": 4,
 "nbformat_minor": 2
}
